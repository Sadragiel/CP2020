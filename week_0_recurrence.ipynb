{
 "cells": [
  {
   "cell_type": "markdown",
   "metadata": {},
   "source": [
    "Compute integrals of the form\n",
    "\n",
    "$$\n",
    "I_n = \\int_0^1 x^n e^{1-x}\\, dx\\;.\n",
    "$$\n",
    "\n",
    "Integrating by parts, we obtain a recurrence relation\n",
    "\n",
    "$$\n",
    "I_n = n I_{n-1} - 1 \\;,\n",
    "$$\n",
    "\n",
    "with the initial condition\n",
    "\n",
    "$$\n",
    "I_0 = e - 1\\;.\n",
    "$$"
   ]
  },
  {
   "cell_type": "markdown",
   "metadata": {},
   "source": [
    "These integrals can be computed using symbolic maths with `sympy`:"
   ]
  },
  {
   "cell_type": "code",
   "execution_count": 5,
   "metadata": {},
   "outputs": [
    {
     "name": "stdout",
     "output_type": "stream",
     "text": "[1.7182818284590453, 0.7182818284590452, 0.43656365691809046, 0.30969097075427143, 0.23876388301708565, 0.19381941508542824, 0.16291649051256946, 0.14041543358798622, 0.12332346870388973, 0.10991121833500754, 0.0991121833500754, 0.09023401685082952, 0.08280820220995427, 0.07650662872940558, 0.07109280221167809, 0.0663920331751714, 0.06227253080274239, 0.05863302364662064, 0.05539442563917152, 0.052494087144258815, 0.049881742885176245, 0.04751660058870116, 0.04536521295142559, 0.04339989788278872, 0.041597549186929206]\n"
    }
   ],
   "source": [
    "import sympy\n",
    "x = sympy.Symbol('x')\n",
    "N = 25\n",
    "exact = [float(sympy.integrate(x**n * sympy.exp(1 - x), (x, 0, 1))) for n in range(N)]"
   ]
  },
  {
   "cell_type": "markdown",
   "metadata": {},
   "source": [
    "Use the recurrence relation to compute these integrals  from $n=0$ up to $n = 24$ inclusive. \n",
    "\n",
    "\n",
    "First, use the upwards recursion, from $n=1$ upwards. Your code below must product a list of the 25 values of the integrals."
   ]
  },
  {
   "cell_type": "code",
   "execution_count": 42,
   "metadata": {},
   "outputs": [
    {
     "name": "stdout",
     "output_type": "stream",
     "text": "Iteration number 25, number is 1.718281828459045\nIteration number 24, number is 40.238763883017086\nIteration number 23, number is 924.491569309393\nIteration number 22, number is 20337.814524806647\nIteration number 21, number is 427093.1050209396\nIteration number 20, number is 8541861.100418791\nIteration number 19, number is 162295359.90795702\nIteration number 18, number is 2921316477.3432264\nIteration number 17, number is 49662380113.83485\nIteration number 16, number is 794598081820.3575\nIteration number 15, number is 11918971227304.363\nIteration number 14, number is 166865597182260.1\nIteration number 13, number is 2169252763369380.2\nIteration number 12, number is 2.6031033160432564e+16\nIteration number 11, number is 2.863413647647582e+17\nIteration number 10, number is 2.863413647647582e+18\nIteration number 9, number is 2.5770722828828238e+19\nIteration number 8, number is 2.061657826306259e+20\nIteration number 7, number is 1.4431604784143813e+21\nIteration number 6, number is 8.658962870486287e+21\nIteration number 5, number is 4.329481435243144e+22\nIteration number 4, number is 1.7317925740972575e+23\nIteration number 3, number is 5.195377722291772e+23\nIteration number 2, number is 1.0390755444583544e+24\nIteration number 1, number is 1.0390755444583544e+24\nIteration number 0, number is -1.0\n"
    },
    {
     "data": {
      "text/plain": "26"
     },
     "execution_count": 42,
     "metadata": {},
     "output_type": "execute_result"
    }
   ],
   "source": [
    "import numpy as np\n",
    "def upwards_recursion(n):\n",
    "    array = []\n",
    "\n",
    "    if (n == 0):\n",
    "        array.append(np.e - 1)\n",
    "    else:\n",
    "        \n",
    "\n",
    "    if (n < 25):\n",
    "        array = upwards_recursion(n+1)\n",
    "        array.append(n * array[-1] - 1)\n",
    "    else:\n",
    "        array.append(np.e - 1)\n",
    "    print('Iteration number {}, number is {}'.format(n, array[-1]))\n",
    "    return array\n",
    "len(upwards_recursion(0))"
   ]
  },
  {
   "cell_type": "markdown",
   "metadata": {},
   "source": [
    "Compare your results with the exact values. Discuss"
   ]
  },
  {
   "cell_type": "code",
   "execution_count": 38,
   "metadata": {},
   "outputs": [
    {
     "name": "stdout",
     "output_type": "stream",
     "text": "1.718281828459045 [1.7182818284590453, 0.7182818284590452, 0.43656365691809046, 0.30969097075427143, 0.23876388301708565, 0.19381941508542824, 0.16291649051256946, 0.14041543358798622, 0.12332346870388973, 0.10991121833500754, 0.0991121833500754, 0.09023401685082952, 0.08280820220995427, 0.07650662872940558, 0.07109280221167809, 0.0663920331751714, 0.06227253080274239, 0.05863302364662064, 0.05539442563917152, 0.052494087144258815, 0.049881742885176245, 0.04751660058870116, 0.04536521295142559, 0.04339989788278872, 0.041597549186929206]\n"
    },
    {
     "ename": "AssertionError",
     "evalue": "\nNot equal to tolerance rtol=1e-07, atol=0\n\n(shapes (1,), (25,) mismatch)\n x: array([1.718282])\n y: array([1.718282, 0.718282, 0.436564, 0.309691, 0.238764, 0.193819,\n       0.162916, 0.140415, 0.123323, 0.109911, 0.099112, 0.090234,\n       0.082808, 0.076507, 0.071093, 0.066392, 0.062273, 0.058633,...",
     "output_type": "error",
     "traceback": [
      "\u001b[0;31m---------------------------------------------------------------------------\u001b[0m",
      "\u001b[0;31mAssertionError\u001b[0m                            Traceback (most recent call last)",
      "\u001b[0;32m<ipython-input-38-6ef6f084e60a>\u001b[0m in \u001b[0;36m<module>\u001b[0;34m\u001b[0m\n\u001b[1;32m      4\u001b[0m \u001b[0;34m\u001b[0m\u001b[0m\n\u001b[1;32m      5\u001b[0m \u001b[0;32mfrom\u001b[0m \u001b[0mnumpy\u001b[0m\u001b[0;34m.\u001b[0m\u001b[0mtesting\u001b[0m \u001b[0;32mimport\u001b[0m \u001b[0massert_allclose\u001b[0m\u001b[0;34m\u001b[0m\u001b[0;34m\u001b[0m\u001b[0m\n\u001b[0;32m----> 6\u001b[0;31m \u001b[0massert_allclose\u001b[0m\u001b[0;34m(\u001b[0m\u001b[0mvalues\u001b[0m\u001b[0;34m,\u001b[0m \u001b[0mexact\u001b[0m\u001b[0;34m)\u001b[0m\u001b[0;34m\u001b[0m\u001b[0;34m\u001b[0m\u001b[0m\n\u001b[0m",
      "\u001b[0;32m~/anaconda3/lib/python3.7/site-packages/numpy/testing/_private/utils.py\u001b[0m in \u001b[0;36massert_allclose\u001b[0;34m(actual, desired, rtol, atol, equal_nan, err_msg, verbose)\u001b[0m\n\u001b[1;32m   1531\u001b[0m     \u001b[0mheader\u001b[0m \u001b[0;34m=\u001b[0m \u001b[0;34m'Not equal to tolerance rtol=%g, atol=%g'\u001b[0m \u001b[0;34m%\u001b[0m \u001b[0;34m(\u001b[0m\u001b[0mrtol\u001b[0m\u001b[0;34m,\u001b[0m \u001b[0matol\u001b[0m\u001b[0;34m)\u001b[0m\u001b[0;34m\u001b[0m\u001b[0;34m\u001b[0m\u001b[0m\n\u001b[1;32m   1532\u001b[0m     assert_array_compare(compare, actual, desired, err_msg=str(err_msg),\n\u001b[0;32m-> 1533\u001b[0;31m                          verbose=verbose, header=header, equal_nan=equal_nan)\n\u001b[0m\u001b[1;32m   1534\u001b[0m \u001b[0;34m\u001b[0m\u001b[0m\n\u001b[1;32m   1535\u001b[0m \u001b[0;34m\u001b[0m\u001b[0m\n",
      "\u001b[0;32m~/anaconda3/lib/python3.7/site-packages/numpy/testing/_private/utils.py\u001b[0m in \u001b[0;36massert_array_compare\u001b[0;34m(comparison, x, y, err_msg, verbose, header, precision, equal_nan, equal_inf)\u001b[0m\n\u001b[1;32m    763\u001b[0m                                 \u001b[0mverbose\u001b[0m\u001b[0;34m=\u001b[0m\u001b[0mverbose\u001b[0m\u001b[0;34m,\u001b[0m \u001b[0mheader\u001b[0m\u001b[0;34m=\u001b[0m\u001b[0mheader\u001b[0m\u001b[0;34m,\u001b[0m\u001b[0;34m\u001b[0m\u001b[0;34m\u001b[0m\u001b[0m\n\u001b[1;32m    764\u001b[0m                                 names=('x', 'y'), precision=precision)\n\u001b[0;32m--> 765\u001b[0;31m             \u001b[0;32mraise\u001b[0m \u001b[0mAssertionError\u001b[0m\u001b[0;34m(\u001b[0m\u001b[0mmsg\u001b[0m\u001b[0;34m)\u001b[0m\u001b[0;34m\u001b[0m\u001b[0;34m\u001b[0m\u001b[0m\n\u001b[0m\u001b[1;32m    766\u001b[0m \u001b[0;34m\u001b[0m\u001b[0m\n\u001b[1;32m    767\u001b[0m         \u001b[0mflagged\u001b[0m \u001b[0;34m=\u001b[0m \u001b[0mbool_\u001b[0m\u001b[0;34m(\u001b[0m\u001b[0;32mFalse\u001b[0m\u001b[0;34m)\u001b[0m\u001b[0;34m\u001b[0m\u001b[0;34m\u001b[0m\u001b[0m\n",
      "\u001b[0;31mAssertionError\u001b[0m: \nNot equal to tolerance rtol=1e-07, atol=0\n\n(shapes (1,), (25,) mismatch)\n x: array([1.718282])\n y: array([1.718282, 0.718282, 0.436564, 0.309691, 0.238764, 0.193819,\n       0.162916, 0.140415, 0.123323, 0.109911, 0.099112, 0.090234,\n       0.082808, 0.076507, 0.071093, 0.066392, 0.062273, 0.058633,..."
     ]
    }
   ],
   "source": [
    "values = upwards_recursion(25)\n",
    "for value, exact_value in zip(values, exact):\n",
    "    print(value, exact)\n",
    "\n",
    "from numpy.testing import assert_allclose\n",
    "assert_allclose(values, exact)"
   ]
  },
  {
   "cell_type": "code",
   "execution_count": 0,
   "metadata": {},
   "outputs": [],
   "source": [
    "# ENTER YOUR CONCLUSION HERE"
   ]
  },
  {
   "cell_type": "markdown",
   "metadata": {},
   "source": [
    "Next, use the downwards recursion. Your code below must produce a list of the 25 values of the integrals, from 0 to 24."
   ]
  },
  {
   "cell_type": "code",
   "execution_count": 0,
   "metadata": {},
   "outputs": [],
   "source": [
    "def downwards_recursion(n):\n",
    "    array = []\n",
    "    #print('Array nulled on iteration {}'.format(n))\n",
    "    if (n > 0):\n",
    "        array = upwards_recursion(n-1)\n",
    "        array.append(n * array[-1] - 1)\n",
    "    else:\n",
    "        array.append(np.e - 1)\n",
    "    #print('Iteration number {}, number is {}'.format(n, array[-1]))\n",
    "    return array"
   ]
  },
  {
   "cell_type": "markdown",
   "metadata": {
    "collapsed": true
   },
   "source": [
    "Repeat the comparison with the exact values. Discuss."
   ]
  },
  {
   "cell_type": "code",
   "execution_count": 0,
   "metadata": {},
   "outputs": [],
   "source": [
    "# ENTER YOUR COMPARISON HERE"
   ]
  }
 ],
 "metadata": {
  "kernelspec": {
   "display_name": "Python 3.7.6 64-bit ('base': conda)",
   "language": "python",
   "name": "python37664bitbaseconda17d31f4fcf3d46bba807268f66c65f87"
  },
  "language_info": {
   "codemirror_mode": {
    "name": "ipython",
    "version": 3
   },
   "file_extension": ".py",
   "mimetype": "text/x-python",
   "name": "python",
   "nbconvert_exporter": "python",
   "pygments_lexer": "ipython3",
   "version": "3.7.6-final"
  }
 },
 "nbformat": 4,
 "nbformat_minor": 2
}