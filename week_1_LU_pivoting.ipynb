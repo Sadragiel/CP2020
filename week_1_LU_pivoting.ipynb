{
 "cells": [
  {
   "cell_type": "markdown",
   "metadata": {},
   "source": [
    "# I. $LU$ factorization of a square matrix"
   ]
  },
  {
   "cell_type": "markdown",
   "metadata": {},
   "source": [
    "Consider a simple naive implementation of the LU decomposition. \n",
    "\n",
    "Note that we're using the `numpy` arrays to represent matrices [do **not** use `np.matrix`]."
   ]
  },
  {
   "source": [
    "import numpy as np\n",
    "\n",
    "def diy_lu(a):\n",
    "    \"\"\"Construct the LU decomposition of the input matrix.\n",
    "    \n",
    "    Naive LU decomposition: work column by column, accumulate elementary triangular matrices.\n",
    "    No pivoting.\n",
    "    \"\"\"\n",
    "    N = a.shape[0]\n",
    "    \n",
    "    u = a.copy()    #   u is a copy of given matrix\n",
    "    L = np.eye(N)   #   L is an eye matrix\n",
    "    for j in range(N-1):\n",
    "        lam = np.eye(N) #   lam is the same as N\n",
    "        gamma = u[j+1:, j] / u[j, j]\n",
    "        lam[j+1:, j] = -gamma\n",
    "        u = lam @ u\n",
    "\n",
    "        lam[j+1:, j] = gamma\n",
    "        L = L @ lam\n",
    "    return L, u"
   ],
   "cell_type": "code",
   "outputs": [],
   "metadata": {},
   "execution_count": 53
  },
  {
   "source": [
    "# Now, generate a full rank matrix and test the naive implementation\n",
    "\n",
    "import numpy as np\n",
    "\n",
    "N = 6\n",
    "a = np.zeros((N, N), dtype=float)\n",
    "for i in range(N):\n",
    "    for j in range(N):\n",
    "        a[i, j] = 3. / (0.6*i*j + 1)\n",
    "\n",
    "np.linalg.matrix_rank(a)"
   ],
   "cell_type": "code",
   "outputs": [
    {
     "output_type": "execute_result",
     "data": {
      "text/plain": "6"
     },
     "metadata": {},
     "execution_count": 54
    }
   ],
   "metadata": {},
   "execution_count": 54
  },
  {
   "source": [
    "# Tweak the printing of floating-point numbers, for clarity\n",
    "np.set_printoptions(precision=3)"
   ],
   "cell_type": "code",
   "outputs": [],
   "metadata": {},
   "execution_count": 55
  },
  {
   "source": [
    "L, u = diy_lu(a)\n",
    "\n",
    "print(L, \"\\n\")\n",
    "print(u, \"\\n\")\n",
    "\n",
    "# Quick sanity check: L times U must equal the original matrix, up to floating-point errors.\n",
    "print(L@u - a)"
   ],
   "cell_type": "code",
   "outputs": [
    {
     "output_type": "stream",
     "name": "stdout",
     "text": "[[1.    0.    0.    0.    0.    0.   ]\n [1.    1.    0.    0.    0.    0.   ]\n [1.    1.455 1.    0.    0.    0.   ]\n [1.    1.714 1.742 1.    0.    0.   ]\n [1.    1.882 2.276 2.039 1.    0.   ]\n [1.    2.    2.671 2.944 2.354 1.   ]] \n\n[[ 3.000e+00  3.000e+00  3.000e+00  3.000e+00  3.000e+00  3.000e+00]\n [ 0.000e+00 -1.125e+00 -1.636e+00 -1.929e+00 -2.118e+00 -2.250e+00]\n [ 0.000e+00  0.000e+00  2.625e-01  4.574e-01  5.975e-01  7.013e-01]\n [ 0.000e+00  1.110e-16  0.000e+00 -2.197e-02 -4.480e-02 -6.469e-02]\n [ 0.000e+00 -2.819e-16  0.000e+00  0.000e+00  8.080e-04  1.902e-03]\n [ 0.000e+00  3.369e-16  0.000e+00 -1.541e-18  2.168e-19 -1.585e-05]] \n\n[[ 0.000e+00  0.000e+00  0.000e+00  0.000e+00  0.000e+00  0.000e+00]\n [ 0.000e+00  0.000e+00  0.000e+00  0.000e+00  0.000e+00  0.000e+00]\n [ 0.000e+00  0.000e+00  0.000e+00  2.220e-16 -1.110e-16 -1.665e-16]\n [ 0.000e+00  0.000e+00  2.220e-16 -5.551e-17 -1.665e-16 -1.665e-16]\n [ 0.000e+00  0.000e+00 -1.110e-16  2.776e-16 -2.776e-16  5.551e-17]\n [ 0.000e+00  0.000e+00 -1.665e-16 -1.665e-16  5.551e-17  0.000e+00]]\n"
    }
   ],
   "metadata": {},
   "execution_count": 56
  },
  {
   "cell_type": "markdown",
   "metadata": {},
   "source": [
    "# II. The need for pivoting"
   ]
  },
  {
   "cell_type": "markdown",
   "metadata": {},
   "source": [
    "Let's tweak the matrix a little bit, we only change a single element:"
   ]
  },
  {
   "source": [
    "a1 = a.copy()\n",
    "a1[1, 1] = 3"
   ],
   "cell_type": "code",
   "outputs": [],
   "metadata": {},
   "execution_count": 57
  },
  {
   "cell_type": "markdown",
   "metadata": {},
   "source": [
    "Resulting matix still has full rank, but the naive LU routine breaks down."
   ]
  },
  {
   "source": [
    "np.linalg.matrix_rank(a1)"
   ],
   "cell_type": "code",
   "outputs": [
    {
     "output_type": "execute_result",
     "data": {
      "text/plain": "6"
     },
     "metadata": {},
     "execution_count": 58
    }
   ],
   "metadata": {},
   "execution_count": 58
  },
  {
   "source": [
    "l, u, p = diy_lu_piv(a1)\n",
    "\n",
    "print(l, u)"
   ],
   "cell_type": "code",
   "outputs": [
    {
     "output_type": "stream",
     "name": "stdout",
     "text": "Iteration number 0: \n\n[[ 3.     3.     3.     3.     3.     3.   ]\n [ 0.     0.    -1.636 -1.929 -2.118 -2.25 ]\n [ 0.    -1.636 -2.118 -2.348 -2.483 -2.571]\n [ 0.    -1.929 -2.348 -2.531 -2.634 -2.7  ]\n [ 0.    -2.118 -2.483 -2.634 -2.717 -2.769]\n [ 0.    -2.25  -2.571 -2.7   -2.769 -2.812]]\nIteration number 1: \n\n[[ 3.000e+00  3.000e+00  3.000e+00  3.000e+00  3.000e+00  3.000e+00]\n [ 0.000e+00 -2.250e+00 -1.636e+00 -1.929e+00 -2.118e+00  0.000e+00]\n [ 0.000e+00  0.000e+00 -2.475e-01 -1.437e-01 -6.259e-02 -1.636e+00]\n [ 0.000e+00  2.220e-16 -3.842e-01 -2.170e-01 -9.297e-02 -1.929e+00]\n [ 0.000e+00  2.220e-16 -4.688e-01 -2.605e-01 -1.106e-01 -2.118e+00]\n [ 0.000e+00  0.000e+00 -5.260e-01 -2.893e-01 -1.222e-01 -2.250e+00]]\nIteration number 2: \n\n[[ 3.000e+00  3.000e+00  3.000e+00  3.000e+00  3.000e+00  3.000e+00]\n [ 0.000e+00 -2.250e+00  0.000e+00 -1.929e+00 -2.118e+00 -1.636e+00]\n [ 0.000e+00  0.000e+00 -1.636e+00 -1.437e-01 -6.259e-02 -2.475e-01]\n [ 0.000e+00  2.220e-16  2.220e-16 -4.755e-02 -1.920e-02 -9.247e-02]\n [ 0.000e+00  2.220e-16  0.000e+00 -7.450e-02 -2.965e-02 -1.485e-01]\n [ 0.000e+00  0.000e+00  0.000e+00 -9.164e-02 -3.611e-02 -1.856e-01]]\nIteration number 3: \n\n[[ 3.000e+00  3.000e+00  3.000e+00  3.000e+00  3.000e+00  3.000e+00]\n [ 0.000e+00 -2.250e+00  0.000e+00 -1.636e+00 -2.118e+00 -1.929e+00]\n [ 0.000e+00  0.000e+00 -1.636e+00 -2.475e-01 -6.259e-02 -1.437e-01]\n [ 0.000e+00  2.220e-16  2.220e-16 -9.247e-02 -1.920e-02 -4.755e-02]\n [ 0.000e+00 -1.344e-16 -3.565e-16  0.000e+00  1.181e-03  1.841e-03]\n [ 0.000e+00 -4.458e-16 -4.458e-16 -1.567e-17  2.439e-03  3.821e-03]]\nIteration number 4: \n\n[[ 3.000e+00  3.000e+00  3.000e+00  3.000e+00  3.000e+00  3.000e+00]\n [ 0.000e+00 -2.250e+00  0.000e+00 -1.636e+00 -1.929e+00 -2.118e+00]\n [ 0.000e+00  0.000e+00 -1.636e+00 -2.475e-01 -1.437e-01 -6.259e-02]\n [ 0.000e+00  2.220e-16  2.220e-16 -9.247e-02 -4.755e-02 -1.920e-02]\n [ 0.000e+00 -1.344e-16 -3.565e-16  0.000e+00  1.841e-03  1.181e-03]\n [ 0.000e+00 -1.667e-16  2.941e-16 -1.567e-17 -4.337e-19 -1.233e-05]]\n[[1.    0.    0.    0.    0.    0.   ]\n [1.    1.    0.    0.    0.    0.   ]\n [1.    1.143 1.    0.    0.    0.   ]\n [1.    1.2   1.179 1.    0.    0.   ]\n [1.    1.231 1.294 1.605 1.    0.   ]\n [1.    1.25  1.375 2.007 2.076 1.   ]] [[ 3.000e+00  3.000e+00  3.000e+00  3.000e+00  3.000e+00  3.000e+00]\n [ 0.000e+00 -2.250e+00  0.000e+00 -1.636e+00 -1.929e+00 -2.118e+00]\n [ 0.000e+00  0.000e+00 -1.636e+00 -2.475e-01 -1.437e-01 -6.259e-02]\n [ 0.000e+00  2.220e-16  2.220e-16 -9.247e-02 -4.755e-02 -1.920e-02]\n [ 0.000e+00 -1.344e-16 -3.565e-16  0.000e+00  1.841e-03  1.181e-03]\n [ 0.000e+00 -1.667e-16  2.941e-16 -1.567e-17 -4.337e-19 -1.233e-05]]\n"
    }
   ],
   "metadata": {},
   "execution_count": 59
  },
  {
   "cell_type": "markdown",
   "metadata": {},
   "source": [
    "### Test II.1\n",
    "\n",
    "For a naive LU decomposition to work, all leading minors of a matrix should be non-zero. Check if this requirement is satisfied for the two matrices `a` and `a1`.\n",
    "\n",
    "(20% of the grade)"
   ]
  },
  {
   "source": [
    "def single_minor(matrix, i, j):\n",
    "    return np.linalg.det(np.delete(np.delete(matrix, i, axis=0), j, axis=1))\n",
    "\n",
    "def check_LU_cond(matrix):\n",
    "    for i in range(matrix.shape[0]):\n",
    "        for j in range(matrix.shape[0]):\n",
    "            if (single_minor(matrix, i, j) == 0):\n",
    "                return False\n",
    "    return True\n",
    "\n",
    "print('Check for a matrix: {}'.format(check_LU_cond(a)))\n",
    "print('Check for a1 matrix: {}'.format(check_LU_cond(a1)))"
   ],
   "cell_type": "code",
   "outputs": [
    {
     "output_type": "stream",
     "name": "stdout",
     "text": "Check for a matrix: True\nCheck for a1 matrix: True\n"
    }
   ],
   "metadata": {},
   "execution_count": 60
  },
  {
   "cell_type": "markdown",
   "metadata": {},
   "source": [
    "### Test II.2\n",
    "\n",
    "Modify the `diy_lu` routine to implement column pivoting. Keep track of pivots, you can either construct a permutation matrix, or a swap array (your choice).\n",
    "\n",
    "(40% of the grade)\n",
    "\n",
    "Implement a function to reconstruct the original matrix from a decompositon. Test your routines on the matrices `a` and `a1`.\n",
    "\n",
    "(40% of the grade)"
   ]
  },
  {
   "source": [
    "def diy_lu_piv(a):\n",
    "    \"\"\"Construct the LU decomposition of the input matrix.\n",
    "    \n",
    "    Naive LU decomposition: work column by column, accumulate elementary triangular matrices.\n",
    "    No pivoting.\n",
    "    \"\"\"\n",
    "    N = a.shape[0]\n",
    "    \n",
    "    u = a.copy()    #   u is a copy of given matrix\n",
    "    L = np.eye(N)   #   L is an eye matrix\n",
    "    permutation_matrix = np.eye(N)  #   Initialization for permutation matrix\n",
    "    for j in range(N-1):\n",
    "        max_index = np.abs(u[j, j:]).argmax() + j # Here\n",
    "        temporary_matrix = np.eye(N)\n",
    "        temporary_matrix[j, j] = 0\n",
    "        temporary_matrix[max_index, max_index] = 0\n",
    "        temporary_matrix[j, max_index] = 1\n",
    "        temporary_matrix[max_index, j] = 1\n",
    "        permutation_matrix = np.dot(permutation_matrix, temporary_matrix) # Mb different?\n",
    "        #u = u @ temporary_matrix.T\n",
    "        u[:,[j, max_index]] = u[:, [max_index, j]]  #   Swap finished\n",
    "        lam = np.eye(N) #   lam is the same as N\n",
    "        gamma = u[j+1:, j] / u[j, j]\n",
    "        lam[j+1:, j] = -gamma\n",
    "        u = lam @ u\n",
    "        print('Iteration number {}: \\n'.format(j))\n",
    "        print(u)\n",
    "\n",
    "        lam[j+1:, j] = gamma\n",
    "        L = L @ lam\n",
    "    return L, u, permutation_matrix"
   ],
   "cell_type": "code",
   "outputs": [],
   "metadata": {},
   "execution_count": 61
  },
  {
   "source": [
    "#   Test polygon\n",
    "\n",
    "array = np.random.randint(0, 10, (4, 4))\n",
    "array_true = array.copy()\n",
    "permutation_matrix = np.eye(4)\n",
    "print(array)\n",
    "for j in range(4):\n",
    "    max_index = np.abs(array[j, j:]).argmax() + j\n",
    "    temporary_matrix = np.eye(4)\n",
    "    temporary_matrix[j, j] = 0\n",
    "    temporary_matrix[max_index, max_index] = 0\n",
    "    temporary_matrix[j, max_index] = 1\n",
    "    temporary_matrix[max_index, j] = 1\n",
    "    permutation_matrix = np.dot(permutation_matrix, temporary_matrix)\n",
    "    array[:,[j, max_index]] = array[:, [max_index, j]]\n",
    "print(array)\n",
    "print(permutation_matrix)\n",
    "print(np.dot(array, permutation_matrix))\n",
    "#print(assert(arr))"
   ],
   "cell_type": "code",
   "outputs": [
    {
     "output_type": "stream",
     "name": "stdout",
     "text": "[[4 0 1 3]\n [4 6 5 2]\n [9 5 5 6]\n [6 9 1 2]]\n[[4 0 3 1]\n [4 6 2 5]\n [9 5 6 5]\n [6 9 2 1]]\n[[1. 0. 0. 0.]\n [0. 1. 0. 0.]\n [0. 0. 0. 1.]\n [0. 0. 1. 0.]]\n[[4. 0. 1. 3.]\n [4. 6. 5. 2.]\n [9. 5. 5. 6.]\n [6. 9. 1. 2.]]\n"
    }
   ],
   "metadata": {},
   "execution_count": 62
  },
  {
   "cell_type": "code",
   "execution_count": null,
   "metadata": {},
   "outputs": [],
   "source": []
  }
 ],
 "metadata": {
  "kernelspec": {
   "display_name": "Python 3",
   "language": "python",
   "name": "python3"
  },
  "language_info": {
   "codemirror_mode": {
    "name": "ipython",
    "version": 3
   },
   "file_extension": ".py",
   "mimetype": "text/x-python",
   "name": "python",
   "nbconvert_exporter": "python",
   "pygments_lexer": "ipython3",
   "version": "3.7.6-final"
  }
 },
 "nbformat": 4,
 "nbformat_minor": 2
}