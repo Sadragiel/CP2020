{
 "cells": [
  {
   "cell_type": "markdown",
   "metadata": {},
   "source": [
    "# I. $LU$ factorization of a square matrix"
   ]
  },
  {
   "cell_type": "markdown",
   "metadata": {},
   "source": [
    "Consider a simple naive implementation of the LU decomposition. \n",
    "\n",
    "Note that we're using the `numpy` arrays to represent matrices [do **not** use `np.matrix`]."
   ]
  },
  {
   "cell_type": "code",
   "execution_count": 43,
   "metadata": {},
   "outputs": [],
   "source": [
    "import numpy as np\n",
    "\n",
    "def diy_lu(a):\n",
    "    \"\"\"Construct the LU decomposition of the input matrix.\n",
    "    \n",
    "    Naive LU decomposition: work column by column, accumulate elementary triangular matrices.\n",
    "    No pivoting.\n",
    "    \"\"\"\n",
    "    N = a.shape[0]\n",
    "    \n",
    "    u = a.copy()    #   u is a copy of given matrix\n",
    "    L = np.eye(N)   #   L is an eye matrix\n",
    "    for j in range(N-1):\n",
    "        lam = np.eye(N) #   lam is the same as N\n",
    "        gamma = u[j+1:, j] / u[j, j]\n",
    "        lam[j+1:, j] = -gamma\n",
    "        u = lam @ u\n",
    "\n",
    "        lam[j+1:, j] = gamma\n",
    "        L = L @ lam\n",
    "    return L, u"
   ]
  },
  {
   "cell_type": "code",
   "execution_count": 44,
   "metadata": {},
   "outputs": [
    {
     "data": {
      "text/plain": "6"
     },
     "execution_count": 44,
     "metadata": {},
     "output_type": "execute_result"
    }
   ],
   "source": [
    "# Now, generate a full rank matrix and test the naive implementation\n",
    "\n",
    "import numpy as np\n",
    "\n",
    "N = 6\n",
    "a = np.zeros((N, N), dtype=float)\n",
    "for i in range(N):\n",
    "    for j in range(N):\n",
    "        a[i, j] = 3. / (0.6*i*j + 1)\n",
    "\n",
    "np.linalg.matrix_rank(a)"
   ]
  },
  {
   "cell_type": "code",
   "execution_count": 45,
   "metadata": {},
   "outputs": [],
   "source": [
    "# Tweak the printing of floating-point numbers, for clarity\n",
    "np.set_printoptions(precision=3)"
   ]
  },
  {
   "cell_type": "code",
   "execution_count": 78,
   "metadata": {},
   "outputs": [
    {
     "data": {
      "text/plain": "array([[8, 9, 8, 3],\n       [9, 1, 8, 3],\n       [9, 0, 2, 7],\n       [8, 6, 7, 5]])"
     },
     "execution_count": 78,
     "metadata": {},
     "output_type": "execute_result"
    }
   ],
   "source": [
    "a = np.random.randint(0, 10, (4, 4))\n",
    "a"
   ]
  },
  {
   "cell_type": "code",
   "execution_count": 84,
   "metadata": {},
   "outputs": [
    {
     "name": "stdout",
     "output_type": "stream",
     "text": "[[3.    3.    3.    3.    3.    3.   ]\n [3.    3.    1.364 1.071 0.882 0.75 ]\n [3.    1.364 0.882 0.652 0.517 0.429]\n [3.    1.071 0.652 0.469 0.366 0.3  ]\n [3.    0.882 0.517 0.366 0.283 0.231]\n [3.    0.75  0.429 0.3   0.231 0.188]]\n(6, 6)\nIteration number 0: \n\n[[ 3.     3.     3.     3.     3.     3.   ]\n [ 0.     0.    -1.636 -1.929 -2.118 -2.25 ]\n [ 0.    -1.636 -2.118 -2.348 -2.483 -2.571]\n [ 0.    -1.929 -2.348 -2.531 -2.634 -2.7  ]\n [ 0.    -2.118 -2.483 -2.634 -2.717 -2.769]\n [ 0.    -2.25  -2.571 -2.7   -2.769 -2.812]]\n(6, 6)\nIteration number 1: \n\n[[ 3.     3.     3.     3.     3.     3.   ]\n [ 0.     0.    -1.636 -1.929 -2.118 -2.25 ]\n [   nan    nan   -inf   -inf   -inf   -inf]\n [   nan    nan   -inf   -inf   -inf   -inf]\n [   nan    nan   -inf   -inf   -inf   -inf]\n [   nan    nan   -inf   -inf   -inf   -inf]]\n(6, 6)\nIteration number 2: \n\n[[nan nan nan nan nan nan]\n [nan nan nan nan nan nan]\n [nan nan nan nan nan nan]\n [nan nan nan nan nan nan]\n [nan nan nan nan nan nan]\n [nan nan nan nan nan nan]]\n(6, 6)\nIteration number 3: \n\n[[nan nan nan nan nan nan]\n [nan nan nan nan nan nan]\n [nan nan nan nan nan nan]\n [nan nan nan nan nan nan]\n [nan nan nan nan nan nan]\n [nan nan nan nan nan nan]]\n(6, 6)\nIteration number 4: \n\n[[nan nan nan nan nan nan]\n [nan nan nan nan nan nan]\n [nan nan nan nan nan nan]\n [nan nan nan nan nan nan]\n [nan nan nan nan nan nan]\n [nan nan nan nan nan nan]]\n[[3.    3.    3.    3.    3.    3.   ]\n [3.    3.    1.364 1.071 0.882 0.75 ]\n [3.    1.364 0.882 0.652 0.517 0.429]\n [3.    1.071 0.652 0.469 0.366 0.3  ]\n [3.    0.882 0.517 0.366 0.283 0.231]\n [3.    0.75  0.429 0.3   0.231 0.188]] \n\n[[nan nan nan nan nan nan]\n [nan nan nan nan nan nan]\n [nan nan nan nan nan nan]\n [nan nan nan nan nan nan]\n [nan nan nan nan nan nan]\n [nan nan nan nan nan nan]] \n\n[[nan nan nan nan nan nan]\n [nan nan nan nan nan nan]\n [nan nan nan nan nan nan]\n [nan nan nan nan nan nan]\n [nan nan nan nan nan nan]\n [nan nan nan nan nan nan]] \n\n[[1. 0. 0. 0. 0. 0.]\n [0. 1. 0. 0. 0. 0.]\n [0. 0. 1. 0. 0. 0.]\n [0. 0. 0. 1. 0. 0.]\n [0. 0. 0. 0. 1. 0.]\n [0. 0. 0. 0. 0. 1.]] \n\n[[nan nan nan nan nan nan]\n [nan nan nan nan nan nan]\n [nan nan nan nan nan nan]\n [nan nan nan nan nan nan]\n [nan nan nan nan nan nan]\n [nan nan nan nan nan nan]]\n[[nan nan nan nan nan nan]\n [nan nan nan nan nan nan]\n [nan nan nan nan nan nan]\n [nan nan nan nan nan nan]\n [nan nan nan nan nan nan]\n [nan nan nan nan nan nan]]\n/Users/fess/anaconda3/lib/python3.7/site-packages/ipykernel_launcher.py:25: RuntimeWarning: divide by zero encountered in true_divide\n/Users/fess/anaconda3/lib/python3.7/site-packages/ipykernel_launcher.py:27: RuntimeWarning: invalid value encountered in matmul\n/Users/fess/anaconda3/lib/python3.7/site-packages/ipykernel_launcher.py:32: RuntimeWarning: invalid value encountered in matmul\n/Users/fess/anaconda3/lib/python3.7/site-packages/ipykernel_launcher.py:25: RuntimeWarning: invalid value encountered in true_divide\n"
    }
   ],
   "source": [
    "print(a1)\n",
    "L, u, permutation_matrix = diy_lu_piv(a1)\n",
    "\n",
    "print(a1, \"\\n\")\n",
    "print(L, \"\\n\")\n",
    "print(u, \"\\n\")\n",
    "print(permutation_matrix, \"\\n\")\n",
    "\n",
    "# Quick sanity check: L times U must equal the original matrix, up to floating-point errors.\n",
    "print(L@u@permutation_matrix - a1)\n",
    "print(L@u - a1)"
   ]
  },
  {
   "cell_type": "markdown",
   "metadata": {},
   "source": [
    "# II. The need for pivoting"
   ]
  },
  {
   "cell_type": "markdown",
   "metadata": {},
   "source": [
    "Let's tweak the matrix a little bit, we only change a single element:"
   ]
  },
  {
   "cell_type": "code",
   "execution_count": 6,
   "metadata": {},
   "outputs": [],
   "source": [
    "a1 = a.copy()\n",
    "a1[1, 1] = 3"
   ]
  },
  {
   "cell_type": "markdown",
   "metadata": {},
   "source": [
    "Resulting matix still has full rank, but the naive LU routine breaks down."
   ]
  },
  {
   "cell_type": "code",
   "execution_count": 7,
   "metadata": {},
   "outputs": [
    {
     "data": {
      "text/plain": "6"
     },
     "execution_count": 7,
     "metadata": {},
     "output_type": "execute_result"
    }
   ],
   "source": [
    "np.linalg.matrix_rank(a1)"
   ]
  },
  {
   "cell_type": "code",
   "execution_count": 8,
   "metadata": {},
   "outputs": [
    {
     "name": "stdout",
     "output_type": "stream",
     "text": "[[nan nan nan nan nan nan]\n [nan nan nan nan nan nan]\n [nan nan nan nan nan nan]\n [nan nan nan nan nan nan]\n [nan nan nan nan nan nan]\n [nan nan nan nan nan nan]] [[nan nan nan nan nan nan]\n [nan nan nan nan nan nan]\n [nan nan nan nan nan nan]\n [nan nan nan nan nan nan]\n [nan nan nan nan nan nan]\n [nan nan nan nan nan nan]]\n/Users/fess/anaconda3/lib/python3.7/site-packages/ipykernel_launcher.py:15: RuntimeWarning: divide by zero encountered in true_divide\n  from ipykernel import kernelapp as app\n/Users/fess/anaconda3/lib/python3.7/site-packages/ipykernel_launcher.py:17: RuntimeWarning: invalid value encountered in matmul\n/Users/fess/anaconda3/lib/python3.7/site-packages/ipykernel_launcher.py:20: RuntimeWarning: invalid value encountered in matmul\n/Users/fess/anaconda3/lib/python3.7/site-packages/ipykernel_launcher.py:15: RuntimeWarning: invalid value encountered in true_divide\n  from ipykernel import kernelapp as app\n"
    }
   ],
   "source": [
    "l, u = diy_lu(a1)\n",
    "\n",
    "print(l, u)"
   ]
  },
  {
   "cell_type": "markdown",
   "metadata": {},
   "source": [
    "### Test II.1\n",
    "\n",
    "For a naive LU decomposition to work, all leading minors of a matrix should be non-zero. Check if this requirement is satisfied for the two matrices `a` and `a1`.\n",
    "\n",
    "(20% of the grade)"
   ]
  },
  {
   "cell_type": "code",
   "execution_count": 9,
   "metadata": {},
   "outputs": [
    {
     "name": "stdout",
     "output_type": "stream",
     "text": "Check for a matrix: True\nCheck for a1 matrix: True\n"
    }
   ],
   "source": [
    "def single_minor(matrix, i, j):\n",
    "    return np.linalg.det(np.delete(np.delete(matrix, i, axis=0), j, axis=1))\n",
    "\n",
    "def check_LU_cond(matrix):\n",
    "    for i in range(matrix.shape[0]):\n",
    "        for j in range(matrix.shape[0]):\n",
    "            if (single_minor(matrix, i, j) == 0):\n",
    "                return False\n",
    "    return True\n",
    "\n",
    "print('Check for a matrix: {}'.format(check_LU_cond(a)))\n",
    "print('Check for a1 matrix: {}'.format(check_LU_cond(a1)))"
   ]
  },
  {
   "cell_type": "markdown",
   "metadata": {},
   "source": [
    "### Test II.2\n",
    "\n",
    "Modify the `diy_lu` routine to implement column pivoting. Keep track of pivots, you can either construct a permutation matrix, or a swap array (your choice).\n",
    "\n",
    "(40% of the grade)\n",
    "\n",
    "Implement a function to reconstruct the original matrix from a decompositon. Test your routines on the matrices `a` and `a1`.\n",
    "\n",
    "(40% of the grade)"
   ]
  },
  {
   "cell_type": "code",
   "execution_count": 10,
   "metadata": {},
   "outputs": [
    {
     "ename": "SyntaxError",
     "evalue": "invalid syntax (<ipython-input-10-71da81a3afd7>, line 1)",
     "output_type": "error",
     "traceback": [
      "\u001b[0;36m  File \u001b[0;32m\"<ipython-input-10-71da81a3afd7>\"\u001b[0;36m, line \u001b[0;32m1\u001b[0m\n\u001b[0;31m    def swap_lines(a, permutation_matrix, index_0)\u001b[0m\n\u001b[0m                                                  ^\u001b[0m\n\u001b[0;31mSyntaxError\u001b[0m\u001b[0;31m:\u001b[0m invalid syntax\n"
     ]
    }
   ],
   "source": [
    "def swap_lines(a, permutation_matrix, index_0)\n",
    "    max_index = a[0, j:].max_index().shape[-1]\n",
    "    temporary_matrix = np.eye(a.size[0])\n",
    "    temporary_matrix[j, j] = 0\n",
    "    temporary_matrix[max_index, max_index] = 0\n",
    "    temporary_matrix[j, max_index] = 1\n",
    "    temporary_matrix[max_index, j] = 1"
   ]
  },
  {
   "cell_type": "code",
   "execution_count": 85,
   "metadata": {},
   "outputs": [],
   "source": [
    "def diy_lu_piv(a):\n",
    "    \"\"\"Construct the LU decomposition of the input matrix.\n",
    "    \n",
    "    Naive LU decomposition: work column by column, accumulate elementary triangular matrices.\n",
    "    No pivoting.\n",
    "    \"\"\"\n",
    "    N = a.shape[0]\n",
    "    \n",
    "    u = a.copy()    #   u is a copy of given matrix\n",
    "    L = np.eye(N)   #   L is an eye matrix\n",
    "    permutation_matrix = np.eye(N)  #   Initialization for permutation matrix\n",
    "    for j in range(N-1):\n",
    "        max_index = np.abs(a[j, j:]).argmax() + j # Here\n",
    "        temporary_matrix = np.eye(N)\n",
    "        temporary_matrix[j, j] = 0\n",
    "        temporary_matrix[max_index, max_index] = 0\n",
    "        temporary_matrix[j, max_index] = 1\n",
    "        temporary_matrix[max_index, j] = 1\n",
    "        permutation_matrix = np.dot(temporary_matrix, permutation_matrix) # Mb different?\n",
    "        u[:,[j, max_index]] = u[:, [max_index, j]]  #   Swap finished\n",
    "        lam = np.eye(N) #   lam is the same as N\n",
    "        gamma = u[j+1:, j] / u[j, j]\n",
    "        lam[j+1:, j] = -gamma\n",
    "        u = lam @ u\n",
    "        print('Iteration number {}: \\n'.format(j))\n",
    "        print(u)\n",
    "\n",
    "        lam[j+1:, j] = gamma\n",
    "        L = L @ lam\n",
    "    return L, u, permutation_matrix"
   ]
  },
  {
   "cell_type": "code",
   "execution_count": 41,
   "metadata": {},
   "outputs": [
    {
     "name": "stdout",
     "output_type": "stream",
     "text": "[[7 7 4 4]\n [5 4 1 9]\n [2 5 3 7]\n [2 9 5 6]]\n[[7 4 7 4]\n [5 9 4 1]\n [2 7 5 3]\n [2 6 9 5]]\n[[1. 0. 0. 0.]\n [0. 0. 0. 1.]\n [0. 1. 0. 0.]\n [0. 0. 1. 0.]]\n[[7. 7. 4. 4.]\n [5. 4. 1. 9.]\n [2. 5. 3. 7.]\n [2. 9. 5. 6.]]\n"
    }
   ],
   "source": [
    "#   Test polygon\n",
    "\n",
    "array = np.random.randint(0, 10, (4, 4))\n",
    "array_true = array.copy()\n",
    "permutation_matrix = np.eye(4)\n",
    "print(array)\n",
    "for j in range(4):\n",
    "    max_index = np.abs(array[j, j:]).argmax() + j\n",
    "    temporary_matrix = np.eye(4)\n",
    "    temporary_matrix[j, j] = 0\n",
    "    temporary_matrix[max_index, max_index] = 0\n",
    "    temporary_matrix[j, max_index] = 1\n",
    "    temporary_matrix[max_index, j] = 1\n",
    "    permutation_matrix = np.dot(temporary_matrix, permutation_matrix)\n",
    "    array[:,[j, max_index]] = array[:, [max_index, j]]\n",
    "print(array)\n",
    "print(permutation_matrix)\n",
    "print(np.dot(array, permutation_matrix))\n",
    "#print(assert(arr))"
   ]
  },
  {
   "cell_type": "code",
   "execution_count": null,
   "metadata": {},
   "outputs": [],
   "source": []
  }
 ],
 "metadata": {
  "kernelspec": {
   "display_name": "Python 3.7.6 64-bit ('base': conda)",
   "language": "python",
   "name": "python37664bitbaseconda17d31f4fcf3d46bba807268f66c65f87"
  },
  "language_info": {
   "codemirror_mode": {
    "name": "ipython",
    "version": 3
   },
   "file_extension": ".py",
   "mimetype": "text/x-python",
   "name": "python",
   "nbconvert_exporter": "python",
   "pygments_lexer": "ipython3",
   "version": "3.7.6-final"
  }
 },
 "nbformat": 4,
 "nbformat_minor": 2
}