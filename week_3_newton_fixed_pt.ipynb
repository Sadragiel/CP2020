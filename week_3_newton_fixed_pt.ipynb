{
 "cells": [
  {
   "cell_type": "markdown",
   "metadata": {},
   "source": [
    "# Part I. Root-finding. Newton's iteration."
   ]
  },
  {
   "cell_type": "code",
   "execution_count": 54,
   "metadata": {},
   "outputs": [],
   "source": [
    "import numpy as np\n",
    "import seaborn as sns\n"
   ]
  },
  {
   "cell_type": "markdown",
   "metadata": {},
   "source": [
    "Write a function which performs Newton's iteration for a given function $f(x)$ with known derivative $f'(x)$. Your function should find the root of $f(x)$ with a predefined absolute accuracy $\\epsilon$. "
   ]
  },
  {
   "cell_type": "code",
   "execution_count": 17,
   "metadata": {},
   "outputs": [],
   "source": [
    "def newton_iteration(f, fder, x0, eps=1e-5, maxiter=1000):\n",
    "    \"\"\"Find a root of $f(x) = 0$ via Newton's iteration starting from x0.\n",
    "    \n",
    "    Parameters\n",
    "    ----------\n",
    "    f : callable\n",
    "        The function to find a root of.\n",
    "    fder : callable\n",
    "        The derivative of `f`.\n",
    "    x0 : float\n",
    "        Initial value for the Newton's iteration.\n",
    "    eps : float\n",
    "        The target accuracy. \n",
    "        The iteration stops when the distance between successive iterates is below `eps`.\n",
    "        Default is 1e-5.\n",
    "    maxiter : int\n",
    "        The maximum number of iterations (default is 1000.)\n",
    "        Iterations terminate if the number of iterations exceeds `maxiter`.\n",
    "        This parameter is only needed to avoid infinite loops if iterations wander off.\n",
    "        \n",
    "    Returns\n",
    "    -------\n",
    "    x : float\n",
    "        The estimate for the root.\n",
    "    niter : int\n",
    "        The number of iterations.\n",
    "    \"\"\"\n",
    "    x = x0\n",
    "    i = -1\n",
    "    while True:\n",
    "        i += 1\n",
    "        der = fder(x)\n",
    "        step = f(x) / fder(x)\n",
    "        if ((abs(step) <= abs(eps * x)) or (i > maxiter)):\n",
    "            return (x, i)\n",
    "        else:\n",
    "            x -= step "
   ]
  },
  {
   "cell_type": "markdown",
   "metadata": {},
   "source": [
    "### Test I.1 \n",
    "\n",
    "Test your implementation on a simple example, $f(x) = x^2 - 1$ or similar. (20% of the total grade)"
   ]
  },
  {
   "cell_type": "code",
   "execution_count": 22,
   "metadata": {},
   "outputs": [
    {
     "data": {
      "text/plain": "(-1.0000052895642693, 6)"
     },
     "execution_count": 22,
     "metadata": {},
     "output_type": "execute_result"
    }
   ],
   "source": [
    "def f(x):\n",
    "    return x ** 2 - 1\n",
    "def fder(x):\n",
    "    return 2 * x\n",
    "\n",
    "#true_result = 1\n",
    "newton_iteration(f, fder, -10)"
   ]
  },
  {
   "cell_type": "markdown",
   "metadata": {},
   "source": [
    "### Test I.2\n",
    "\n",
    "Now consider a function which has a multiple root. Take $f(x) = (x^2 - 1)^2$ as an example. Implement a modified Newton's iteraion,\n",
    "\n",
    "$$\n",
    "x_{n+1} = x_{n} - m \\frac{f(x_n)}{f'(x_n)}\n",
    "$$\n",
    "\n",
    "and vary $m= 1, 2, 3, 4, 5$. Check the number of iterations required for convergence within a fixed $\\epsilon$. Are your observations consistent with the expectation that the convergence is quadratic is $m$ equals the multiplicity of the root, and is linear otherwise? (40% of the total grade)"
   ]
  },
  {
   "cell_type": "code",
   "execution_count": 23,
   "metadata": {},
   "outputs": [],
   "source": [
    "def mod_newton(f, fder, x0, m=1, eps=1e-5, maxiter=1000):\n",
    "    \"\"\"Find a root of $f(x) = 0$ via Newton's iteration starting from x0.\n",
    "    \n",
    "    Parameters\n",
    "    ----------\n",
    "    f : callable\n",
    "        The function to find a root of.\n",
    "    fder : callable\n",
    "        The derivative of `f`.\n",
    "    x0 : float\n",
    "        Initial value for the Newton's iteration.\n",
    "    m : integer\n",
    "        Integer constant for modification of Newton's iteration.\n",
    "    eps : float\n",
    "        The target accuracy. \n",
    "        The iteration stops when the distance between successive iterates is below `eps`.\n",
    "        Default is 1e-5.\n",
    "    maxiter : int\n",
    "        The maximum number of iterations (default is 1000.)\n",
    "        Iterations terminate if the number of iterations exceeds `maxiter`.\n",
    "        This parameter is only needed to avoid infinite loops if iterations wander off.\n",
    "        \n",
    "    Returns\n",
    "    -------\n",
    "    x : float\n",
    "        The estimate for the root.\n",
    "    niter : int\n",
    "        The number of iterations.\n",
    "    \"\"\"\n",
    "    x = x0\n",
    "    i = -1\n",
    "    while True:\n",
    "        i += 1\n",
    "        der = fder(x)\n",
    "        step = f(x) / fder(x)\n",
    "        if ((abs(step) <= abs(eps * x)) or (i > maxiter)):\n",
    "            return (x, i)\n",
    "        else:\n",
    "            x -= m * step "
   ]
  },
  {
   "cell_type": "code",
   "execution_count": 62,
   "metadata": {},
   "outputs": [
    {
     "name": "stdout",
     "output_type": "stream",
     "text": "Начальное условие x_0 = -4.99999, m = 1\nКорень: -1.0000114752884501, число итераций 21\n\nНачальное условие x_0 = -3.9999900000000004, m = 1\nКорень: -1.0000130819391237, число итераций 20\n\nНачальное условие x_0 = -2.9999900000000004, m = 1\nКорень: -1.0000123834638333, число итераций 19\n\nНачальное условие x_0 = -1.9999900000000004, m = 1\nКорень: -1.000015658949842, число итераций 17\n\nНачальное условие x_0 = -0.9999900000000004, m = 1\nКорень: -0.9999900000000004, число итераций 0\n\nНачальное условие x_0 = 9.999999999621423e-06, m = 1\nКорень: 1.0000182207724804, число итераций 51\n\nНачальное условие x_0 = 1.0000099999999996, m = 1\nКорень: 1.0000099999999996, число итераций 0\n\nНачальное условие x_0 = 2.0000099999999996, m = 1\nКорень: 1.0000156594342688, число итераций 17\n\nНачальное условие x_0 = 3.0000099999999996, m = 1\nКорень: 1.000012383684002, число итераций 19\n\nНачальное условие x_0 = 4.00001, m = 1\nКорень: 1.000013082105715, число итераций 20\n\nНачальное условие x_0 = -4.99999, m = 2\nКорень: -1.0000046355271734, число итераций 5\n\nНачальное условие x_0 = -3.9999900000000004, m = 2\nКорень: -1.0000001591664436, число итераций 5\n\nНачальное условие x_0 = -2.9999900000000004, m = 2\nКорень: -1.000000000465624, число итераций 5\n\nНачальное условие x_0 = -1.9999900000000004, m = 2\nКорень: -1.0000000464561918, число итераций 4\n\nНачальное условие x_0 = -0.9999900000000004, m = 2\nКорень: -0.9999900000000004, число итераций 0\n\nНачальное условие x_0 = 9.999999999621423e-06, m = 2\nКорень: 1.0000000015603232, число итераций 20\n\nНачальное условие x_0 = 1.0000099999999996, m = 2\nКорень: 1.0000099999999996, число итераций 0\n\nНачальное условие x_0 = 2.0000099999999996, m = 2\nКорень: 1.0000000464661034, число итераций 4\n\nНачальное условие x_0 = 3.0000099999999996, m = 2\nКорень: 1.0000000004656986, число итераций 5\n\nНачальное условие x_0 = 4.00001, m = 2\nКорень: 1.0000001591800265, число итераций 5\n\nНачальное условие x_0 = -4.99999, m = 3\nКорень: -1.000015520358678, число итераций 15\n\nНачальное условие x_0 = -3.9999900000000004, m = 3\nКорень: -0.9999812906813804, число итераций 14\n\nНачальное условие x_0 = -2.9999900000000004, m = 3\nКорень: -0.9999983333361113, число итераций 1\n\nНачальное условие x_0 = -1.9999900000000004, m = 3\nКорень: -1.000017129922424, число итераций 14\n\nНачальное условие x_0 = -0.9999900000000004, m = 3\nКорень: -0.9999900000000004, число итераций 0\n\nНачальное условие x_0 = 9.999999999621423e-06, m = 3\nКорень: 1.000013616022014, число итераций 23\n\nНачальное условие x_0 = 1.0000099999999996, m = 3\nКорень: 1.0000099999999996, число итераций 0\n\nНачальное условие x_0 = 2.0000099999999996, m = 3\nКорень: 1.000017129733224, число итераций 14\n\nНачальное условие x_0 = 3.0000099999999996, m = 3\nКорень: 1.0000016666694442, число итераций 1\n\nНачальное условие x_0 = 4.00001, m = 3\nКорень: 0.9999812903623139, число итераций 14\n\n"
    }
   ],
   "source": [
    "def f_2(x):\n",
    "    return (x ** 2 - 1) ** 2\n",
    "def fder_2(x):\n",
    "    return (2 * (x ** 2 - 1) * 2 * x)\n",
    "for i in range(1, 4):\n",
    "    for j in np.arange(-5 + 1e-5, 5):\n",
    "        print('Начальное условие x_0 = {}, m = {}'.format(j, i))\n",
    "        print('Корень: {}, число итераций {}\\n'.format(mod_newton(f_2, fder_2, j, i)[0],mod_newton(f_2, fder_2, j, i)[1]))"
   ]
  },
  {
   "cell_type": "markdown",
   "metadata": {},
   "source": [
    "# Part II. Fixed-point iteration"
   ]
  },
  {
   "cell_type": "markdown",
   "metadata": {},
   "source": [
    "Consider the following equation:\n",
    "\n",
    "$$\n",
    "\\sqrt{x} = \\cos{x}\n",
    "$$\n",
    "\n",
    "Plot the left-hand side and right-hand side of this equation, and localize the root graphically. Estimate the location of the root by visual inspection of the plot.\n",
    "\n",
    "Write a function which finds the solution using fixed-point iteration up to a predefined accuracy $\\epsilon$. Compare the result to an estimate from a visual inspection.\n",
    "\n",
    "Next, rewrite the fixed-point problem in the form\n",
    "\n",
    "$$\n",
    "x = x - \\alpha f(x)\n",
    "$$\n",
    "\n",
    "where $\\alpha$ is the free parameter. Check the dependence of the number of iterations required for a given $\\epsilon$ on $\\alpha$. Compare your results to an expectation that the optimal value of $\\alpha$ is given by \n",
    "\n",
    "$$\n",
    "\\alpha = \\frac{2}{m + M}\n",
    "$$\n",
    "\n",
    "where $0 < m < |f'(x)| < M$ over the localization interval. (40% of the total grade)"
   ]
  },
  {
   "cell_type": "code",
   "execution_count": null,
   "metadata": {
    "collapsed": true
   },
   "outputs": [],
   "source": [
    "# ... ENTER YOUR CODE HERE ..."
   ]
  },
  {
   "cell_type": "markdown",
   "metadata": {},
   "source": [
    "# Part III. Newton's fractal.\n",
    "\n",
    "(Not graded). \n",
    "\n",
    "Consider the equation\n",
    "\n",
    "$$\n",
    "x^3 = 1\n",
    "$$\n",
    "\n",
    "It has three solutions in the complex plane, $x_k = \\exp(i\\, 2\\pi k/ 3)$, $k = 0, 1, 2$.\n",
    "\n",
    "The Newton's iterations converge to one of these solutions, depending on the starting point in the complex plane (to converge to a complex-valued solution, the iteration needs a complex-valued starting point).\n",
    "\n",
    "Plot the $\\textit{basins of attraction}$ of these roots on the complex plane of $x$ (i.e., on the plane $\\mathrm{Re}x$ -- $\\mathrm{Im}x$). To this end, make a series of calculations, varying the initial conditions on a grid of points. \n",
    "Color the grid in three colors, according to the root, to which iterations converged."
   ]
  },
  {
   "cell_type": "code",
   "execution_count": null,
   "metadata": {
    "collapsed": true
   },
   "outputs": [],
   "source": []
  }
 ],
 "metadata": {
  "kernelspec": {
   "display_name": "Python 3",
   "language": "python",
   "name": "python3"
  },
  "language_info": {
   "codemirror_mode": {
    "name": "ipython",
    "version": 3
   },
   "file_extension": ".py",
   "mimetype": "text/x-python",
   "name": "python",
   "nbconvert_exporter": "python",
   "pygments_lexer": "ipython3",
   "version": "3.7.6-final"
  }
 },
 "nbformat": 4,
 "nbformat_minor": 2
}