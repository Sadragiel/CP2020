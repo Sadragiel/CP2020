{
 "cells": [
  {
   "cell_type": "markdown",
   "metadata": {},
   "source": [
    "# Simple iteration for systems of linear equations"
   ]
  },
  {
   "cell_type": "markdown",
   "metadata": {},
   "source": [
    "First, generate a random diagonally dominant matrix, for testing."
   ]
  },
  {
   "cell_type": "code",
   "execution_count": 1404,
   "metadata": {},
   "outputs": [],
   "source": [
    "import numpy as np\n",
    "from matplotlib import pyplot as plt\n",
    "rndm = np.random.RandomState(1234)\n",
    "\n",
    "n = 5\n",
    "A = rndm.uniform(size=(n, n)) + np.diagflat([15]*n)\n",
    "b = rndm.uniform(size=n)"
   ]
  },
  {
   "cell_type": "markdown",
   "metadata": {},
   "source": [
    "# I.  Jacobi iteration\n",
    "\n",
    "Given\n",
    "\n",
    "$$\n",
    "A x = b\n",
    "$$\n",
    "\n",
    "separate the diagonal part $D$,\n",
    "\n",
    "$$ A = D + (A - D) $$\n",
    "\n",
    "and write\n",
    "\n",
    "$$\n",
    "x = D^{-1} (D - A) x + D^{-1} b\\;.\n",
    "$$\n",
    "\n",
    "Then iterate\n",
    "\n",
    "$$\n",
    "x_{n + 1} = B x_{n} + c\\;,\n",
    "$$\n",
    "\n",
    "where \n",
    "\n",
    "$$\n",
    "B = D^{-1} (D - A) \\qquad \\text{and} \\qquad c = D^{-1} b\n",
    "$$\n"
   ]
  },
  {
   "cell_type": "markdown",
   "metadata": {},
   "source": [
    "Let's construct the matrix and the r.h.s. for the Jacobi iteration"
   ]
  },
  {
   "cell_type": "code",
   "execution_count": 1405,
   "metadata": {},
   "outputs": [],
   "source": [
    "diag_1d = np.diag(A)\n",
    "\n",
    "B = -A.copy()\n",
    "np.fill_diagonal(B, 0)\n",
    "\n",
    "D = np.diag(diag_1d)\n",
    "invD = np.diag(1./diag_1d)\n",
    "BB = invD @ B \n",
    "c = invD @ b"
   ]
  },
  {
   "cell_type": "code",
   "execution_count": 1406,
   "metadata": {},
   "outputs": [],
   "source": [
    "# sanity checks\n",
    "from numpy.testing import assert_allclose\n",
    "\n",
    "assert_allclose(-B + D, A)\n",
    "\n",
    "\n",
    "# xx is a \"ground truth\" solution, compute it using a direct method\n",
    "xx = np.linalg.solve(A, b)\n",
    "\n",
    "np.testing.assert_allclose(A@xx, b)\n",
    "np.testing.assert_allclose(D@xx, B@xx + b)\n",
    "np.testing.assert_allclose(xx, BB@xx + c)"
   ]
  },
  {
   "cell_type": "markdown",
   "metadata": {},
   "source": [
    "Check that $\\| B\\| \\leqslant 1$:"
   ]
  },
  {
   "cell_type": "code",
   "execution_count": 1407,
   "metadata": {},
   "outputs": [
    {
     "data": {
      "text/plain": "0.17396672093190155"
     },
     "execution_count": 1407,
     "metadata": {},
     "output_type": "execute_result"
    }
   ],
   "source": [
    "np.linalg.norm(BB)"
   ]
  },
  {
   "cell_type": "markdown",
   "metadata": {},
   "source": [
    "### Do the Jacobi iteration"
   ]
  },
  {
   "cell_type": "code",
   "execution_count": 1408,
   "metadata": {},
   "outputs": [],
   "source": [
    "n_iter = 50\n",
    "\n",
    "x0 = np.ones(n)\n",
    "x = x0\n",
    "for _ in range(n_iter):\n",
    "    x = BB @ x + c"
   ]
  },
  {
   "cell_type": "code",
   "execution_count": 1409,
   "metadata": {},
   "outputs": [
    {
     "data": {
      "text/plain": "array([1.11022302e-16, 5.55111512e-17, 0.00000000e+00, 0.00000000e+00,\n       1.11022302e-16])"
     },
     "execution_count": 1409,
     "metadata": {},
     "output_type": "execute_result"
    }
   ],
   "source": [
    "# Check the result:\n",
    "\n",
    "A @ x - b"
   ]
  },
  {
   "cell_type": "markdown",
   "metadata": {},
   "source": [
    "### Task I.1\n",
    "\n",
    "Collect the proof-of-concept above into a single function implementing the Jacobi iteration. This function should receive the r.h.s. matrix $A$, the l.h.s. vector `b`, and the number of iterations to perform.\n",
    "\n",
    "\n",
    "The matrix $A$ in the illustration above is strongly diagonally dominant, by construction. \n",
    "What happens if the diagonal matrix elements of $A$ are made smaller? Check the convergence of the Jacobi iteration, and check the value of the norm of $B$.\n",
    "\n",
    "(20% of the total grade)\n"
   ]
  },
  {
   "cell_type": "code",
   "execution_count": 1410,
   "metadata": {},
   "outputs": [],
   "source": [
    "def jacobi_iteration(a, b, x0, ni=50):\n",
    "    '''Use the Jacobi iteration method\n",
    "\n",
    "    Parameters\n",
    "    ----------\n",
    "    a : np.ndarray\n",
    "        r.h.s. matrix.\n",
    "    b : np.ndarray \n",
    "        l.h.s. matrix.\n",
    "    x0 : np.ndarray\n",
    "        Initial answer array for Jacobi Iteration algorythm\n",
    "    ni : integer\n",
    "        The number of iterations to perform.\n",
    "\n",
    "    Returns\n",
    "    ----------\n",
    "    x : ndarray\n",
    "        The solution of A @ x == b equation.\n",
    "\n",
    "    '''\n",
    "    d_temp = np.diag(a)\n",
    "    D = np.diag(d_temp)\n",
    "    D_inverse = np.diag(1.0 / d_temp)\n",
    "    B_temp = D.copy() - A.copy()\n",
    "    B = D_inverse @ B_temp\n",
    "    c = D_inverse @ b\n",
    "    x = x0\n",
    "    for _ in range(ni):\n",
    "        x = B @ x + c\n",
    "    return x"
   ]
  },
  {
   "cell_type": "code",
   "execution_count": 1411,
   "metadata": {},
   "outputs": [
    {
     "data": {
      "text/plain": "array([1.11022302e-16, 5.55111512e-17, 0.00000000e+00, 0.00000000e+00,\n       1.11022302e-16])"
     },
     "execution_count": 1411,
     "metadata": {},
     "output_type": "execute_result"
    }
   ],
   "source": [
    "x_j = jacobi_iteration(A, b, np.ones(n))\n",
    "dif_j = A @ x_j - b\n",
    "dif_j"
   ]
  },
  {
   "cell_type": "markdown",
   "metadata": {},
   "source": [
    "# II. Seidel's iteration."
   ]
  },
  {
   "cell_type": "markdown",
   "metadata": {},
   "source": [
    "##### Task II.1\n",
    "\n",
    "Implement the Seidel's iteration. \n",
    "\n",
    "Test it on a random matrix. Study the convergence of iterations, relate to the norm of the iteration matrix.\n",
    "\n",
    "(30% of the total grade)"
   ]
  },
  {
   "cell_type": "code",
   "execution_count": 1412,
   "metadata": {},
   "outputs": [],
   "source": [
    "def seidels_iteration(a, b, x0, ni=50):\n",
    "    '''Use the Seidel\\'s iteration method to solve a linear system of equations.\n",
    "\n",
    "    Parameters\n",
    "    ----------\n",
    "    a : np.ndarray\n",
    "        r.h.s. matrix.\n",
    "    b : np.ndarray \n",
    "        l.h.s. matrix.\n",
    "    x0 : np.ndarray\n",
    "        Initial answer array for Jacobi Iteration algorythm\n",
    "    ni : integer\n",
    "        The number of iterations to perform.\n",
    "\n",
    "    Returns\n",
    "    ----------\n",
    "    x : ndarray\n",
    "        The solution of A @ x == b equation.\n",
    "\n",
    "    '''\n",
    "    L = np.tril(a)\n",
    "    U = np.triu(a, 1)\n",
    "    x = x0\n",
    "    for _ in range(ni):\n",
    "        x = np.linalg.inv(L) @ (b - U @ x)\n",
    "    return x"
   ]
  },
  {
   "cell_type": "code",
   "execution_count": 1413,
   "metadata": {},
   "outputs": [
    {
     "data": {
      "text/plain": "array([1.11022302e-16, 0.00000000e+00, 0.00000000e+00, 0.00000000e+00,\n       0.00000000e+00])"
     },
     "execution_count": 1413,
     "metadata": {},
     "output_type": "execute_result"
    }
   ],
   "source": [
    "x_s = seidels_iteration(A, b, np.ones(n))\n",
    "dif_s = A @ x_s - b\n",
    "dif_s"
   ]
  },
  {
   "cell_type": "code",
   "execution_count": 1414,
   "metadata": {},
   "outputs": [
    {
     "data": {
      "text/plain": "array([0.00000000e+00, 5.55111512e-17, 0.00000000e+00, 0.00000000e+00,\n       1.11022302e-16])"
     },
     "execution_count": 1414,
     "metadata": {},
     "output_type": "execute_result"
    }
   ],
   "source": [
    "abs(dif_j) - abs(dif_s)"
   ]
  },
  {
   "cell_type": "markdown",
   "metadata": {},
   "source": [
    "# III. Minimum residual scheme"
   ]
  },
  {
   "cell_type": "markdown",
   "metadata": {},
   "source": [
    "### Task III.1\n",
    "\n",
    "Implement the $\\textit{minimum residual}$ scheme: an explicit non-stationary method, where at each step you select the iteration parameter $\\tau_n$ to minimize the residual $\\mathbf{r}_{n+1}$ given $\\mathbf{r}_n$. Test it on a random matrix, study the convergence to the solution, in terms of the norm of the residual and the deviation from the ground truth solution (which you can obtain using a direct method). Study how the iteration parameter $\\tau_n$ changes as iterations progress.\n",
    "\n",
    "(50% of the grade)"
   ]
  },
  {
   "cell_type": "code",
   "execution_count": 1415,
   "metadata": {},
   "outputs": [],
   "source": [
    "def minimal_residual(A, b, x0, ni=50):\n",
    "    x = x0\n",
    "    i = -1\n",
    "    tau_arr = np.zeros(ni)\n",
    "    for i in range(ni):\n",
    "        r = A @ x - b\n",
    "        A_f = A @ r\n",
    "        if np.linalg.norm(r) > 0:\n",
    "            #print(r.T)\n",
    "            tau = r.T @ A_f / np.linalg.norm(A_f) ** 2\n",
    "            tau_arr[i] = tau\n",
    "            #print(tau_arr)\n",
    "            #print('tau: {}'.format(tau))\n",
    "            x -= tau * r\n",
    "        else:\n",
    "            break\n",
    "    return x, tau_arr"
   ]
  },
  {
   "cell_type": "code",
   "execution_count": 1416,
   "metadata": {},
   "outputs": [
    {
     "data": {
      "text/plain": "array([0., 0., 0., 0., 0.])"
     },
     "execution_count": 1416,
     "metadata": {},
     "output_type": "execute_result"
    }
   ],
   "source": [
    "#print(np.ones(n))\n",
    "x_m, tau_arr = minimal_residual(A, b, np.ones(n))\n",
    "dif_s = A @ x_m - b\n",
    "dif_s"
   ]
  },
  {
   "cell_type": "code",
   "execution_count": 1417,
   "metadata": {},
   "outputs": [
    {
     "data": {
      "image/png": "[encoded data removed]",
      "image/svg+xml": "<?xml version=\"1.0\" encoding=\"utf-8\" standalone=\"no\"?>\n<!DOCTYPE svg PUBLIC \"-//W3C//DTD SVG 1.1//EN\"\n  \"http://www.w3.org/Graphics/SVG/1.1/DTD/svg11.dtd\">\n<!-- Created with matplotlib (https://matplotlib.org/) -->\n<svg height=\"361.037344pt\" version=\"1.1\" viewBox=\"0 0 498.445312 361.037344\" width=\"498.445312pt\" xmlns=\"http://www.w3.org/2000/svg\" xmlns:xlink=\"http://www.w3.org/1999/xlink\">\n <defs>\n  <style type=\"text/css\">\n*{stroke-linecap:butt;stroke-linejoin:round;}\n  </style>\n </defs>\n <g id=\"figure_1\">\n  <g id=\"patch_1\">\n   <path d=\"M 0 361.037344 \nL 498.445312 361.037344 \nL 498.445312 0 \nL 0 0 \nz\n\" style=\"fill:none;\"/>\n  </g>\n  <g id=\"axes_1\">\n   <g id=\"patch_2\">\n    <path d=\"M 44.845313 337.159219 \nL 491.245312 337.159219 \nL 491.245312 10.999219 \nL 44.845313 10.999219 \nz\n\" style=\"fill:#ffffff;\"/>\n   </g>\n   <g id=\"matplotlib.axis_1\">\n    <g id=\"xtick_1\">\n     <g id=\"line2d_1\">\n      <defs>\n       <path d=\"M 0 0 \nL 0 3.5 \n\" id=\"m3e7574e592\" style=\"stroke:#000000;stroke-width:0.8;\"/>\n      </defs>\n      <g>\n       <use style=\"stroke:#000000;stroke-width:0.8;\" x=\"65.136222\" xlink:href=\"#m3e7574e592\" y=\"337.159219\"/>\n      </g>\n     </g>\n     <g id=\"text_1\">\n      <!-- 0 -->\n      <defs>\n       <path d=\"M 31.78125 66.40625 \nQ 24.171875 66.40625 20.328125 58.90625 \nQ 16.5 51.421875 16.5 36.375 \nQ 16.5 21.390625 20.328125 13.890625 \nQ 24.171875 6.390625 31.78125 6.390625 \nQ 39.453125 6.390625 43.28125 13.890625 \nQ 47.125 21.390625 47.125 36.375 \nQ 47.125 51.421875 43.28125 58.90625 \nQ 39.453125 66.40625 31.78125 66.40625 \nz\nM 31.78125 74.21875 \nQ 44.046875 74.21875 50.515625 64.515625 \nQ 56.984375 54.828125 56.984375 36.375 \nQ 56.984375 17.96875 50.515625 8.265625 \nQ 44.046875 -1.421875 31.78125 -1.421875 \nQ 19.53125 -1.421875 13.0625 8.265625 \nQ 6.59375 17.96875 6.59375 36.375 \nQ 6.59375 54.828125 13.0625 64.515625 \nQ 19.53125 74.21875 31.78125 74.21875 \nz\n\" id=\"DejaVuSans-48\"/>\n      </defs>\n      <g transform=\"translate(61.954972 351.757656)scale(0.1 -0.1)\">\n       <use xlink:href=\"#DejaVuSans-48\"/>\n      </g>\n     </g>\n    </g>\n    <g id=\"xtick_2\">\n     <g id=\"line2d_2\">\n      <g>\n       <use style=\"stroke:#000000;stroke-width:0.8;\" x=\"147.956259\" xlink:href=\"#m3e7574e592\" y=\"337.159219\"/>\n      </g>\n     </g>\n     <g id=\"text_2\">\n      <!-- 10 -->\n      <defs>\n       <path d=\"M 12.40625 8.296875 \nL 28.515625 8.296875 \nL 28.515625 63.921875 \nL 10.984375 60.40625 \nL 10.984375 69.390625 \nL 28.421875 72.90625 \nL 38.28125 72.90625 \nL 38.28125 8.296875 \nL 54.390625 8.296875 \nL 54.390625 0 \nL 12.40625 0 \nz\n\" id=\"DejaVuSans-49\"/>\n      </defs>\n      <g transform=\"translate(141.593759 351.757656)scale(0.1 -0.1)\">\n       <use xlink:href=\"#DejaVuSans-49\"/>\n       <use x=\"63.623047\" xlink:href=\"#DejaVuSans-48\"/>\n      </g>\n     </g>\n    </g>\n    <g id=\"xtick_3\">\n     <g id=\"line2d_3\">\n      <g>\n       <use style=\"stroke:#000000;stroke-width:0.8;\" x=\"230.776296\" xlink:href=\"#m3e7574e592\" y=\"337.159219\"/>\n      </g>\n     </g>\n     <g id=\"text_3\">\n      <!-- 20 -->\n      <defs>\n       <path d=\"M 19.1875 8.296875 \nL 53.609375 8.296875 \nL 53.609375 0 \nL 7.328125 0 \nL 7.328125 8.296875 \nQ 12.9375 14.109375 22.625 23.890625 \nQ 32.328125 33.6875 34.8125 36.53125 \nQ 39.546875 41.84375 41.421875 45.53125 \nQ 43.3125 49.21875 43.3125 52.78125 \nQ 43.3125 58.59375 39.234375 62.25 \nQ 35.15625 65.921875 28.609375 65.921875 \nQ 23.96875 65.921875 18.8125 64.3125 \nQ 13.671875 62.703125 7.8125 59.421875 \nL 7.8125 69.390625 \nQ 13.765625 71.78125 18.9375 73 \nQ 24.125 74.21875 28.421875 74.21875 \nQ 39.75 74.21875 46.484375 68.546875 \nQ 53.21875 62.890625 53.21875 53.421875 \nQ 53.21875 48.921875 51.53125 44.890625 \nQ 49.859375 40.875 45.40625 35.40625 \nQ 44.1875 33.984375 37.640625 27.21875 \nQ 31.109375 20.453125 19.1875 8.296875 \nz\n\" id=\"DejaVuSans-50\"/>\n      </defs>\n      <g transform=\"translate(224.413796 351.757656)scale(0.1 -0.1)\">\n       <use xlink:href=\"#DejaVuSans-50\"/>\n       <use x=\"63.623047\" xlink:href=\"#DejaVuSans-48\"/>\n      </g>\n     </g>\n    </g>\n    <g id=\"xtick_4\">\n     <g id=\"line2d_4\">\n      <g>\n       <use style=\"stroke:#000000;stroke-width:0.8;\" x=\"313.596333\" xlink:href=\"#m3e7574e592\" y=\"337.159219\"/>\n      </g>\n     </g>\n     <g id=\"text_4\">\n      <!-- 30 -->\n      <defs>\n       <path d=\"M 40.578125 39.3125 \nQ 47.65625 37.796875 51.625 33 \nQ 55.609375 28.21875 55.609375 21.1875 \nQ 55.609375 10.40625 48.1875 4.484375 \nQ 40.765625 -1.421875 27.09375 -1.421875 \nQ 22.515625 -1.421875 17.65625 -0.515625 \nQ 12.796875 0.390625 7.625 2.203125 \nL 7.625 11.71875 \nQ 11.71875 9.328125 16.59375 8.109375 \nQ 21.484375 6.890625 26.8125 6.890625 \nQ 36.078125 6.890625 40.9375 10.546875 \nQ 45.796875 14.203125 45.796875 21.1875 \nQ 45.796875 27.640625 41.28125 31.265625 \nQ 36.765625 34.90625 28.71875 34.90625 \nL 20.21875 34.90625 \nL 20.21875 43.015625 \nL 29.109375 43.015625 \nQ 36.375 43.015625 40.234375 45.921875 \nQ 44.09375 48.828125 44.09375 54.296875 \nQ 44.09375 59.90625 40.109375 62.90625 \nQ 36.140625 65.921875 28.71875 65.921875 \nQ 24.65625 65.921875 20.015625 65.03125 \nQ 15.375 64.15625 9.8125 62.3125 \nL 9.8125 71.09375 \nQ 15.4375 72.65625 20.34375 73.4375 \nQ 25.25 74.21875 29.59375 74.21875 \nQ 40.828125 74.21875 47.359375 69.109375 \nQ 53.90625 64.015625 53.90625 55.328125 \nQ 53.90625 49.265625 50.4375 45.09375 \nQ 46.96875 40.921875 40.578125 39.3125 \nz\n\" id=\"DejaVuSans-51\"/>\n      </defs>\n      <g transform=\"translate(307.233833 351.757656)scale(0.1 -0.1)\">\n       <use xlink:href=\"#DejaVuSans-51\"/>\n       <use x=\"63.623047\" xlink:href=\"#DejaVuSans-48\"/>\n      </g>\n     </g>\n    </g>\n    <g id=\"xtick_5\">\n     <g id=\"line2d_5\">\n      <g>\n       <use style=\"stroke:#000000;stroke-width:0.8;\" x=\"396.41637\" xlink:href=\"#m3e7574e592\" y=\"337.159219\"/>\n      </g>\n     </g>\n     <g id=\"text_5\">\n      <!-- 40 -->\n      <defs>\n       <path d=\"M 37.796875 64.3125 \nL 12.890625 25.390625 \nL 37.796875 25.390625 \nz\nM 35.203125 72.90625 \nL 47.609375 72.90625 \nL 47.609375 25.390625 \nL 58.015625 25.390625 \nL 58.015625 17.1875 \nL 47.609375 17.1875 \nL 47.609375 0 \nL 37.796875 0 \nL 37.796875 17.1875 \nL 4.890625 17.1875 \nL 4.890625 26.703125 \nz\n\" id=\"DejaVuSans-52\"/>\n      </defs>\n      <g transform=\"translate(390.05387 351.757656)scale(0.1 -0.1)\">\n       <use xlink:href=\"#DejaVuSans-52\"/>\n       <use x=\"63.623047\" xlink:href=\"#DejaVuSans-48\"/>\n      </g>\n     </g>\n    </g>\n    <g id=\"xtick_6\">\n     <g id=\"line2d_6\">\n      <g>\n       <use style=\"stroke:#000000;stroke-width:0.8;\" x=\"479.236407\" xlink:href=\"#m3e7574e592\" y=\"337.159219\"/>\n      </g>\n     </g>\n     <g id=\"text_6\">\n      <!-- 50 -->\n      <defs>\n       <path d=\"M 10.796875 72.90625 \nL 49.515625 72.90625 \nL 49.515625 64.59375 \nL 19.828125 64.59375 \nL 19.828125 46.734375 \nQ 21.96875 47.46875 24.109375 47.828125 \nQ 26.265625 48.1875 28.421875 48.1875 \nQ 40.625 48.1875 47.75 41.5 \nQ 54.890625 34.8125 54.890625 23.390625 \nQ 54.890625 11.625 47.5625 5.09375 \nQ 40.234375 -1.421875 26.90625 -1.421875 \nQ 22.3125 -1.421875 17.546875 -0.640625 \nQ 12.796875 0.140625 7.71875 1.703125 \nL 7.71875 11.625 \nQ 12.109375 9.234375 16.796875 8.0625 \nQ 21.484375 6.890625 26.703125 6.890625 \nQ 35.15625 6.890625 40.078125 11.328125 \nQ 45.015625 15.765625 45.015625 23.390625 \nQ 45.015625 31 40.078125 35.4375 \nQ 35.15625 39.890625 26.703125 39.890625 \nQ 22.75 39.890625 18.8125 39.015625 \nQ 14.890625 38.140625 10.796875 36.28125 \nz\n\" id=\"DejaVuSans-53\"/>\n      </defs>\n      <g transform=\"translate(472.873907 351.757656)scale(0.1 -0.1)\">\n       <use xlink:href=\"#DejaVuSans-53\"/>\n       <use x=\"63.623047\" xlink:href=\"#DejaVuSans-48\"/>\n      </g>\n     </g>\n    </g>\n   </g>\n   <g id=\"matplotlib.axis_2\">\n    <g id=\"ytick_1\">\n     <g id=\"line2d_7\">\n      <defs>\n       <path d=\"M 0 0 \nL -3.5 0 \n\" id=\"mcf1d3956b0\" style=\"stroke:#000000;stroke-width:0.8;\"/>\n      </defs>\n      <g>\n       <use style=\"stroke:#000000;stroke-width:0.8;\" x=\"44.845313\" xlink:href=\"#mcf1d3956b0\" y=\"337.159219\"/>\n      </g>\n     </g>\n     <g id=\"text_7\">\n      <!-- −1.00 -->\n      <defs>\n       <path d=\"M 10.59375 35.5 \nL 73.1875 35.5 \nL 73.1875 27.203125 \nL 10.59375 27.203125 \nz\n\" id=\"DejaVuSans-8722\"/>\n       <path d=\"M 10.6875 12.40625 \nL 21 12.40625 \nL 21 0 \nL 10.6875 0 \nz\n\" id=\"DejaVuSans-46\"/>\n      </defs>\n      <g transform=\"translate(7.2 340.958438)scale(0.1 -0.1)\">\n       <use xlink:href=\"#DejaVuSans-8722\"/>\n       <use x=\"83.789062\" xlink:href=\"#DejaVuSans-49\"/>\n       <use x=\"147.412109\" xlink:href=\"#DejaVuSans-46\"/>\n       <use x=\"179.199219\" xlink:href=\"#DejaVuSans-48\"/>\n       <use x=\"242.822266\" xlink:href=\"#DejaVuSans-48\"/>\n      </g>\n     </g>\n    </g>\n    <g id=\"ytick_2\">\n     <g id=\"line2d_8\">\n      <g>\n       <use style=\"stroke:#000000;stroke-width:0.8;\" x=\"44.845313\" xlink:href=\"#mcf1d3956b0\" y=\"296.389219\"/>\n      </g>\n     </g>\n     <g id=\"text_8\">\n      <!-- −0.75 -->\n      <defs>\n       <path d=\"M 8.203125 72.90625 \nL 55.078125 72.90625 \nL 55.078125 68.703125 \nL 28.609375 0 \nL 18.3125 0 \nL 43.21875 64.59375 \nL 8.203125 64.59375 \nz\n\" id=\"DejaVuSans-55\"/>\n      </defs>\n      <g transform=\"translate(7.2 300.188438)scale(0.1 -0.1)\">\n       <use xlink:href=\"#DejaVuSans-8722\"/>\n       <use x=\"83.789062\" xlink:href=\"#DejaVuSans-48\"/>\n       <use x=\"147.412109\" xlink:href=\"#DejaVuSans-46\"/>\n       <use x=\"179.199219\" xlink:href=\"#DejaVuSans-55\"/>\n       <use x=\"242.822266\" xlink:href=\"#DejaVuSans-53\"/>\n      </g>\n     </g>\n    </g>\n    <g id=\"ytick_3\">\n     <g id=\"line2d_9\">\n      <g>\n       <use style=\"stroke:#000000;stroke-width:0.8;\" x=\"44.845313\" xlink:href=\"#mcf1d3956b0\" y=\"255.619219\"/>\n      </g>\n     </g>\n     <g id=\"text_9\">\n      <!-- −0.50 -->\n      <g transform=\"translate(7.2 259.418438)scale(0.1 -0.1)\">\n       <use xlink:href=\"#DejaVuSans-8722\"/>\n       <use x=\"83.789062\" xlink:href=\"#DejaVuSans-48\"/>\n       <use x=\"147.412109\" xlink:href=\"#DejaVuSans-46\"/>\n       <use x=\"179.199219\" xlink:href=\"#DejaVuSans-53\"/>\n       <use x=\"242.822266\" xlink:href=\"#DejaVuSans-48\"/>\n      </g>\n     </g>\n    </g>\n    <g id=\"ytick_4\">\n     <g id=\"line2d_10\">\n      <g>\n       <use style=\"stroke:#000000;stroke-width:0.8;\" x=\"44.845313\" xlink:href=\"#mcf1d3956b0\" y=\"214.849219\"/>\n      </g>\n     </g>\n     <g id=\"text_10\">\n      <!-- −0.25 -->\n      <g transform=\"translate(7.2 218.648438)scale(0.1 -0.1)\">\n       <use xlink:href=\"#DejaVuSans-8722\"/>\n       <use x=\"83.789062\" xlink:href=\"#DejaVuSans-48\"/>\n       <use x=\"147.412109\" xlink:href=\"#DejaVuSans-46\"/>\n       <use x=\"179.199219\" xlink:href=\"#DejaVuSans-50\"/>\n       <use x=\"242.822266\" xlink:href=\"#DejaVuSans-53\"/>\n      </g>\n     </g>\n    </g>\n    <g id=\"ytick_5\">\n     <g id=\"line2d_11\">\n      <g>\n       <use style=\"stroke:#000000;stroke-width:0.8;\" x=\"44.845313\" xlink:href=\"#mcf1d3956b0\" y=\"174.079219\"/>\n      </g>\n     </g>\n     <g id=\"text_11\">\n      <!-- 0.00 -->\n      <g transform=\"translate(15.579688 177.878438)scale(0.1 -0.1)\">\n       <use xlink:href=\"#DejaVuSans-48\"/>\n       <use x=\"63.623047\" xlink:href=\"#DejaVuSans-46\"/>\n       <use x=\"95.410156\" xlink:href=\"#DejaVuSans-48\"/>\n       <use x=\"159.033203\" xlink:href=\"#DejaVuSans-48\"/>\n      </g>\n     </g>\n    </g>\n    <g id=\"ytick_6\">\n     <g id=\"line2d_12\">\n      <g>\n       <use style=\"stroke:#000000;stroke-width:0.8;\" x=\"44.845313\" xlink:href=\"#mcf1d3956b0\" y=\"133.309219\"/>\n      </g>\n     </g>\n     <g id=\"text_12\">\n      <!-- 0.25 -->\n      <g transform=\"translate(15.579688 137.108438)scale(0.1 -0.1)\">\n       <use xlink:href=\"#DejaVuSans-48\"/>\n       <use x=\"63.623047\" xlink:href=\"#DejaVuSans-46\"/>\n       <use x=\"95.410156\" xlink:href=\"#DejaVuSans-50\"/>\n       <use x=\"159.033203\" xlink:href=\"#DejaVuSans-53\"/>\n      </g>\n     </g>\n    </g>\n    <g id=\"ytick_7\">\n     <g id=\"line2d_13\">\n      <g>\n       <use style=\"stroke:#000000;stroke-width:0.8;\" x=\"44.845313\" xlink:href=\"#mcf1d3956b0\" y=\"92.539219\"/>\n      </g>\n     </g>\n     <g id=\"text_13\">\n      <!-- 0.50 -->\n      <g transform=\"translate(15.579688 96.338438)scale(0.1 -0.1)\">\n       <use xlink:href=\"#DejaVuSans-48\"/>\n       <use x=\"63.623047\" xlink:href=\"#DejaVuSans-46\"/>\n       <use x=\"95.410156\" xlink:href=\"#DejaVuSans-53\"/>\n       <use x=\"159.033203\" xlink:href=\"#DejaVuSans-48\"/>\n      </g>\n     </g>\n    </g>\n    <g id=\"ytick_8\">\n     <g id=\"line2d_14\">\n      <g>\n       <use style=\"stroke:#000000;stroke-width:0.8;\" x=\"44.845313\" xlink:href=\"#mcf1d3956b0\" y=\"51.769219\"/>\n      </g>\n     </g>\n     <g id=\"text_14\">\n      <!-- 0.75 -->\n      <g transform=\"translate(15.579688 55.568438)scale(0.1 -0.1)\">\n       <use xlink:href=\"#DejaVuSans-48\"/>\n       <use x=\"63.623047\" xlink:href=\"#DejaVuSans-46\"/>\n       <use x=\"95.410156\" xlink:href=\"#DejaVuSans-55\"/>\n       <use x=\"159.033203\" xlink:href=\"#DejaVuSans-53\"/>\n      </g>\n     </g>\n    </g>\n    <g id=\"ytick_9\">\n     <g id=\"line2d_15\">\n      <g>\n       <use style=\"stroke:#000000;stroke-width:0.8;\" x=\"44.845313\" xlink:href=\"#mcf1d3956b0\" y=\"10.999219\"/>\n      </g>\n     </g>\n     <g id=\"text_15\">\n      <!-- 1.00 -->\n      <g transform=\"translate(15.579688 14.798438)scale(0.1 -0.1)\">\n       <use xlink:href=\"#DejaVuSans-49\"/>\n       <use x=\"63.623047\" xlink:href=\"#DejaVuSans-46\"/>\n       <use x=\"95.410156\" xlink:href=\"#DejaVuSans-48\"/>\n       <use x=\"159.033203\" xlink:href=\"#DejaVuSans-48\"/>\n      </g>\n     </g>\n    </g>\n   </g>\n   <g id=\"line2d_16\">\n    <defs>\n     <path d=\"M 0 3 \nC 0.795609 3 1.55874 2.683901 2.12132 2.12132 \nC 2.683901 1.55874 3 0.795609 3 0 \nC 3 -0.795609 2.683901 -1.55874 2.12132 -2.12132 \nC 1.55874 -2.683901 0.795609 -3 0 -3 \nC -0.795609 -3 -1.55874 -2.683901 -2.12132 -2.12132 \nC -2.683901 -1.55874 -3 -0.795609 -3 0 \nC -3 0.795609 -2.683901 1.55874 -2.12132 2.12132 \nC -1.55874 2.683901 -0.795609 3 0 3 \nz\n\" id=\"md0804bf8ec\" style=\"stroke:#1f77b4;\"/>\n    </defs>\n    <g clip-path=\"url(#pf66a58ea4f)\">\n     <use style=\"fill:#1f77b4;stroke:#1f77b4;\" x=\"65.136222\" xlink:href=\"#md0804bf8ec\" y=\"164.891035\"/>\n     <use style=\"fill:#1f77b4;stroke:#1f77b4;\" x=\"73.418225\" xlink:href=\"#md0804bf8ec\" y=\"163.036332\"/>\n     <use style=\"fill:#1f77b4;stroke:#1f77b4;\" x=\"81.700229\" xlink:href=\"#md0804bf8ec\" y=\"164.761427\"/>\n     <use style=\"fill:#1f77b4;stroke:#1f77b4;\" x=\"89.982233\" xlink:href=\"#md0804bf8ec\" y=\"163.478924\"/>\n     <use style=\"fill:#1f77b4;stroke:#1f77b4;\" x=\"98.264236\" xlink:href=\"#md0804bf8ec\" y=\"163.810714\"/>\n     <use style=\"fill:#1f77b4;stroke:#1f77b4;\" x=\"106.54624\" xlink:href=\"#md0804bf8ec\" y=\"164.20472\"/>\n     <use style=\"fill:#1f77b4;stroke:#1f77b4;\" x=\"114.828244\" xlink:href=\"#md0804bf8ec\" y=\"163.832908\"/>\n     <use style=\"fill:#1f77b4;stroke:#1f77b4;\" x=\"123.110248\" xlink:href=\"#md0804bf8ec\" y=\"164.171583\"/>\n     <use style=\"fill:#1f77b4;stroke:#1f77b4;\" x=\"131.392251\" xlink:href=\"#md0804bf8ec\" y=\"163.856754\"/>\n     <use style=\"fill:#1f77b4;stroke:#1f77b4;\" x=\"139.674255\" xlink:href=\"#md0804bf8ec\" y=\"164.160238\"/>\n     <use style=\"fill:#1f77b4;stroke:#1f77b4;\" x=\"147.956259\" xlink:href=\"#md0804bf8ec\" y=\"163.874139\"/>\n     <use style=\"fill:#1f77b4;stroke:#1f77b4;\" x=\"156.238262\" xlink:href=\"#md0804bf8ec\" y=\"164.150233\"/>\n     <use style=\"fill:#1f77b4;stroke:#1f77b4;\" x=\"164.520266\" xlink:href=\"#md0804bf8ec\" y=\"163.893602\"/>\n     <use style=\"fill:#1f77b4;stroke:#1f77b4;\" x=\"172.80227\" xlink:href=\"#md0804bf8ec\" y=\"164.132027\"/>\n     <use style=\"fill:#1f77b4;stroke:#1f77b4;\" x=\"181.084274\" xlink:href=\"#md0804bf8ec\" y=\"164.02423\"/>\n     <use style=\"fill:#1f77b4;stroke:#1f77b4;\" x=\"189.366277\" xlink:href=\"#md0804bf8ec\" y=\"164.188241\"/>\n     <use style=\"fill:#1f77b4;stroke:#1f77b4;\" x=\"197.648281\" xlink:href=\"#md0804bf8ec\" y=\"163.461746\"/>\n     <use style=\"fill:#1f77b4;stroke:#1f77b4;\" x=\"205.930285\" xlink:href=\"#md0804bf8ec\" y=\"174.079219\"/>\n     <use style=\"fill:#1f77b4;stroke:#1f77b4;\" x=\"214.212288\" xlink:href=\"#md0804bf8ec\" y=\"174.079219\"/>\n     <use style=\"fill:#1f77b4;stroke:#1f77b4;\" x=\"222.494292\" xlink:href=\"#md0804bf8ec\" y=\"174.079219\"/>\n     <use style=\"fill:#1f77b4;stroke:#1f77b4;\" x=\"230.776296\" xlink:href=\"#md0804bf8ec\" y=\"174.079219\"/>\n     <use style=\"fill:#1f77b4;stroke:#1f77b4;\" x=\"239.0583\" xlink:href=\"#md0804bf8ec\" y=\"174.079219\"/>\n     <use style=\"fill:#1f77b4;stroke:#1f77b4;\" x=\"247.340303\" xlink:href=\"#md0804bf8ec\" y=\"174.079219\"/>\n     <use style=\"fill:#1f77b4;stroke:#1f77b4;\" x=\"255.622307\" xlink:href=\"#md0804bf8ec\" y=\"174.079219\"/>\n     <use style=\"fill:#1f77b4;stroke:#1f77b4;\" x=\"263.904311\" xlink:href=\"#md0804bf8ec\" y=\"174.079219\"/>\n     <use style=\"fill:#1f77b4;stroke:#1f77b4;\" x=\"272.186314\" xlink:href=\"#md0804bf8ec\" y=\"174.079219\"/>\n     <use style=\"fill:#1f77b4;stroke:#1f77b4;\" x=\"280.468318\" xlink:href=\"#md0804bf8ec\" y=\"174.079219\"/>\n     <use style=\"fill:#1f77b4;stroke:#1f77b4;\" x=\"288.750322\" xlink:href=\"#md0804bf8ec\" y=\"174.079219\"/>\n     <use style=\"fill:#1f77b4;stroke:#1f77b4;\" x=\"297.032325\" xlink:href=\"#md0804bf8ec\" y=\"174.079219\"/>\n     <use style=\"fill:#1f77b4;stroke:#1f77b4;\" x=\"305.314329\" xlink:href=\"#md0804bf8ec\" y=\"174.079219\"/>\n     <use style=\"fill:#1f77b4;stroke:#1f77b4;\" x=\"313.596333\" xlink:href=\"#md0804bf8ec\" y=\"174.079219\"/>\n     <use style=\"fill:#1f77b4;stroke:#1f77b4;\" x=\"321.878337\" xlink:href=\"#md0804bf8ec\" y=\"174.079219\"/>\n     <use style=\"fill:#1f77b4;stroke:#1f77b4;\" x=\"330.16034\" xlink:href=\"#md0804bf8ec\" y=\"174.079219\"/>\n     <use style=\"fill:#1f77b4;stroke:#1f77b4;\" x=\"338.442344\" xlink:href=\"#md0804bf8ec\" y=\"174.079219\"/>\n     <use style=\"fill:#1f77b4;stroke:#1f77b4;\" x=\"346.724348\" xlink:href=\"#md0804bf8ec\" y=\"174.079219\"/>\n     <use style=\"fill:#1f77b4;stroke:#1f77b4;\" x=\"355.006351\" xlink:href=\"#md0804bf8ec\" y=\"174.079219\"/>\n     <use style=\"fill:#1f77b4;stroke:#1f77b4;\" x=\"363.288355\" xlink:href=\"#md0804bf8ec\" y=\"174.079219\"/>\n     <use style=\"fill:#1f77b4;stroke:#1f77b4;\" x=\"371.570359\" xlink:href=\"#md0804bf8ec\" y=\"174.079219\"/>\n     <use style=\"fill:#1f77b4;stroke:#1f77b4;\" x=\"379.852363\" xlink:href=\"#md0804bf8ec\" y=\"174.079219\"/>\n     <use style=\"fill:#1f77b4;stroke:#1f77b4;\" x=\"388.134366\" xlink:href=\"#md0804bf8ec\" y=\"174.079219\"/>\n     <use style=\"fill:#1f77b4;stroke:#1f77b4;\" x=\"396.41637\" xlink:href=\"#md0804bf8ec\" y=\"174.079219\"/>\n     <use style=\"fill:#1f77b4;stroke:#1f77b4;\" x=\"404.698374\" xlink:href=\"#md0804bf8ec\" y=\"174.079219\"/>\n     <use style=\"fill:#1f77b4;stroke:#1f77b4;\" x=\"412.980377\" xlink:href=\"#md0804bf8ec\" y=\"174.079219\"/>\n     <use style=\"fill:#1f77b4;stroke:#1f77b4;\" x=\"421.262381\" xlink:href=\"#md0804bf8ec\" y=\"174.079219\"/>\n     <use style=\"fill:#1f77b4;stroke:#1f77b4;\" x=\"429.544385\" xlink:href=\"#md0804bf8ec\" y=\"174.079219\"/>\n     <use style=\"fill:#1f77b4;stroke:#1f77b4;\" x=\"437.826389\" xlink:href=\"#md0804bf8ec\" y=\"174.079219\"/>\n     <use style=\"fill:#1f77b4;stroke:#1f77b4;\" x=\"446.108392\" xlink:href=\"#md0804bf8ec\" y=\"174.079219\"/>\n     <use style=\"fill:#1f77b4;stroke:#1f77b4;\" x=\"454.390396\" xlink:href=\"#md0804bf8ec\" y=\"174.079219\"/>\n     <use style=\"fill:#1f77b4;stroke:#1f77b4;\" x=\"462.6724\" xlink:href=\"#md0804bf8ec\" y=\"174.079219\"/>\n     <use style=\"fill:#1f77b4;stroke:#1f77b4;\" x=\"470.954403\" xlink:href=\"#md0804bf8ec\" y=\"174.079219\"/>\n    </g>\n   </g>\n   <g id=\"patch_3\">\n    <path d=\"M 44.845313 337.159219 \nL 44.845313 10.999219 \n\" style=\"fill:none;stroke:#000000;stroke-linecap:square;stroke-linejoin:miter;stroke-width:0.8;\"/>\n   </g>\n   <g id=\"patch_4\">\n    <path d=\"M 491.245312 337.159219 \nL 491.245312 10.999219 \n\" style=\"fill:none;stroke:#000000;stroke-linecap:square;stroke-linejoin:miter;stroke-width:0.8;\"/>\n   </g>\n   <g id=\"patch_5\">\n    <path d=\"M 44.845312 337.159219 \nL 491.245312 337.159219 \n\" style=\"fill:none;stroke:#000000;stroke-linecap:square;stroke-linejoin:miter;stroke-width:0.8;\"/>\n   </g>\n   <g id=\"patch_6\">\n    <path d=\"M 44.845312 10.999219 \nL 491.245312 10.999219 \n\" style=\"fill:none;stroke:#000000;stroke-linecap:square;stroke-linejoin:miter;stroke-width:0.8;\"/>\n   </g>\n  </g>\n </g>\n <defs>\n  <clipPath id=\"pf66a58ea4f\">\n   <rect height=\"326.16\" width=\"446.4\" x=\"44.845313\" y=\"10.999219\"/>\n  </clipPath>\n </defs>\n</svg>\n",
      "text/plain": "<Figure size 576x432 with 1 Axes>"
     },
     "metadata": {
      "needs_background": "light"
     },
     "output_type": "display_data"
    }
   ],
   "source": [
    "plt.figure(figsize=(8, 6))\n",
    "plt.plot(np.arange(tau_arr.size), tau_arr, 'o')\n",
    "plt.ylim(-1, 1)\n",
    "plt.show()"
   ]
  },
  {
   "cell_type": "code",
   "execution_count": 1418,
   "metadata": {},
   "outputs": [
    {
     "data": {
      "text/plain": "0.0"
     },
     "execution_count": 1418,
     "metadata": {},
     "output_type": "execute_result"
    }
   ],
   "source": [
    "n = 3\n",
    "a = np.random.uniform(size=(n, n)) + np.diagflat([15]*n)\n",
    "b = np.random.uniform(size=n)\n",
    "x_m, tau_arr = minimal_residual(a, b, np.ones(n))\n",
    "dif_s = a @ x_m - b\n",
    "np.linalg.norm(dif_s)"
   ]
  },
  {
   "cell_type": "code",
   "execution_count": 1419,
   "metadata": {},
   "outputs": [
    {
     "data": {
      "image/png": "[encoded data removed]",
      "image/svg+xml": "<?xml version=\"1.0\" encoding=\"utf-8\" standalone=\"no\"?>\n<!DOCTYPE svg PUBLIC \"-//W3C//DTD SVG 1.1//EN\"\n  \"http://www.w3.org/Graphics/SVG/1.1/DTD/svg11.dtd\">\n<!-- Created with matplotlib (https://matplotlib.org/) -->\n<svg height=\"361.037344pt\" version=\"1.1\" viewBox=\"0 0 498.445312 361.037344\" width=\"498.445312pt\" xmlns=\"http://www.w3.org/2000/svg\" xmlns:xlink=\"http://www.w3.org/1999/xlink\">\n <defs>\n  <style type=\"text/css\">\n*{stroke-linecap:butt;stroke-linejoin:round;}\n  </style>\n </defs>\n <g id=\"figure_1\">\n  <g id=\"patch_1\">\n   <path d=\"M 0 361.037344 \nL 498.445312 361.037344 \nL 498.445312 0 \nL 0 0 \nz\n\" style=\"fill:none;\"/>\n  </g>\n  <g id=\"axes_1\">\n   <g id=\"patch_2\">\n    <path d=\"M 44.845313 337.159219 \nL 491.245312 337.159219 \nL 491.245312 10.999219 \nL 44.845313 10.999219 \nz\n\" style=\"fill:#ffffff;\"/>\n   </g>\n   <g id=\"matplotlib.axis_1\">\n    <g id=\"xtick_1\">\n     <g id=\"line2d_1\">\n      <defs>\n       <path d=\"M 0 0 \nL 0 3.5 \n\" id=\"mc8a9fabfa5\" style=\"stroke:#000000;stroke-width:0.8;\"/>\n      </defs>\n      <g>\n       <use style=\"stroke:#000000;stroke-width:0.8;\" x=\"65.136222\" xlink:href=\"#mc8a9fabfa5\" y=\"337.159219\"/>\n      </g>\n     </g>\n     <g id=\"text_1\">\n      <!-- 0 -->\n      <defs>\n       <path d=\"M 31.78125 66.40625 \nQ 24.171875 66.40625 20.328125 58.90625 \nQ 16.5 51.421875 16.5 36.375 \nQ 16.5 21.390625 20.328125 13.890625 \nQ 24.171875 6.390625 31.78125 6.390625 \nQ 39.453125 6.390625 43.28125 13.890625 \nQ 47.125 21.390625 47.125 36.375 \nQ 47.125 51.421875 43.28125 58.90625 \nQ 39.453125 66.40625 31.78125 66.40625 \nz\nM 31.78125 74.21875 \nQ 44.046875 74.21875 50.515625 64.515625 \nQ 56.984375 54.828125 56.984375 36.375 \nQ 56.984375 17.96875 50.515625 8.265625 \nQ 44.046875 -1.421875 31.78125 -1.421875 \nQ 19.53125 -1.421875 13.0625 8.265625 \nQ 6.59375 17.96875 6.59375 36.375 \nQ 6.59375 54.828125 13.0625 64.515625 \nQ 19.53125 74.21875 31.78125 74.21875 \nz\n\" id=\"DejaVuSans-48\"/>\n      </defs>\n      <g transform=\"translate(61.954972 351.757656)scale(0.1 -0.1)\">\n       <use xlink:href=\"#DejaVuSans-48\"/>\n      </g>\n     </g>\n    </g>\n    <g id=\"xtick_2\">\n     <g id=\"line2d_2\">\n      <g>\n       <use style=\"stroke:#000000;stroke-width:0.8;\" x=\"147.956259\" xlink:href=\"#mc8a9fabfa5\" y=\"337.159219\"/>\n      </g>\n     </g>\n     <g id=\"text_2\">\n      <!-- 10 -->\n      <defs>\n       <path d=\"M 12.40625 8.296875 \nL 28.515625 8.296875 \nL 28.515625 63.921875 \nL 10.984375 60.40625 \nL 10.984375 69.390625 \nL 28.421875 72.90625 \nL 38.28125 72.90625 \nL 38.28125 8.296875 \nL 54.390625 8.296875 \nL 54.390625 0 \nL 12.40625 0 \nz\n\" id=\"DejaVuSans-49\"/>\n      </defs>\n      <g transform=\"translate(141.593759 351.757656)scale(0.1 -0.1)\">\n       <use xlink:href=\"#DejaVuSans-49\"/>\n       <use x=\"63.623047\" xlink:href=\"#DejaVuSans-48\"/>\n      </g>\n     </g>\n    </g>\n    <g id=\"xtick_3\">\n     <g id=\"line2d_3\">\n      <g>\n       <use style=\"stroke:#000000;stroke-width:0.8;\" x=\"230.776296\" xlink:href=\"#mc8a9fabfa5\" y=\"337.159219\"/>\n      </g>\n     </g>\n     <g id=\"text_3\">\n      <!-- 20 -->\n      <defs>\n       <path d=\"M 19.1875 8.296875 \nL 53.609375 8.296875 \nL 53.609375 0 \nL 7.328125 0 \nL 7.328125 8.296875 \nQ 12.9375 14.109375 22.625 23.890625 \nQ 32.328125 33.6875 34.8125 36.53125 \nQ 39.546875 41.84375 41.421875 45.53125 \nQ 43.3125 49.21875 43.3125 52.78125 \nQ 43.3125 58.59375 39.234375 62.25 \nQ 35.15625 65.921875 28.609375 65.921875 \nQ 23.96875 65.921875 18.8125 64.3125 \nQ 13.671875 62.703125 7.8125 59.421875 \nL 7.8125 69.390625 \nQ 13.765625 71.78125 18.9375 73 \nQ 24.125 74.21875 28.421875 74.21875 \nQ 39.75 74.21875 46.484375 68.546875 \nQ 53.21875 62.890625 53.21875 53.421875 \nQ 53.21875 48.921875 51.53125 44.890625 \nQ 49.859375 40.875 45.40625 35.40625 \nQ 44.1875 33.984375 37.640625 27.21875 \nQ 31.109375 20.453125 19.1875 8.296875 \nz\n\" id=\"DejaVuSans-50\"/>\n      </defs>\n      <g transform=\"translate(224.413796 351.757656)scale(0.1 -0.1)\">\n       <use xlink:href=\"#DejaVuSans-50\"/>\n       <use x=\"63.623047\" xlink:href=\"#DejaVuSans-48\"/>\n      </g>\n     </g>\n    </g>\n    <g id=\"xtick_4\">\n     <g id=\"line2d_4\">\n      <g>\n       <use style=\"stroke:#000000;stroke-width:0.8;\" x=\"313.596333\" xlink:href=\"#mc8a9fabfa5\" y=\"337.159219\"/>\n      </g>\n     </g>\n     <g id=\"text_4\">\n      <!-- 30 -->\n      <defs>\n       <path d=\"M 40.578125 39.3125 \nQ 47.65625 37.796875 51.625 33 \nQ 55.609375 28.21875 55.609375 21.1875 \nQ 55.609375 10.40625 48.1875 4.484375 \nQ 40.765625 -1.421875 27.09375 -1.421875 \nQ 22.515625 -1.421875 17.65625 -0.515625 \nQ 12.796875 0.390625 7.625 2.203125 \nL 7.625 11.71875 \nQ 11.71875 9.328125 16.59375 8.109375 \nQ 21.484375 6.890625 26.8125 6.890625 \nQ 36.078125 6.890625 40.9375 10.546875 \nQ 45.796875 14.203125 45.796875 21.1875 \nQ 45.796875 27.640625 41.28125 31.265625 \nQ 36.765625 34.90625 28.71875 34.90625 \nL 20.21875 34.90625 \nL 20.21875 43.015625 \nL 29.109375 43.015625 \nQ 36.375 43.015625 40.234375 45.921875 \nQ 44.09375 48.828125 44.09375 54.296875 \nQ 44.09375 59.90625 40.109375 62.90625 \nQ 36.140625 65.921875 28.71875 65.921875 \nQ 24.65625 65.921875 20.015625 65.03125 \nQ 15.375 64.15625 9.8125 62.3125 \nL 9.8125 71.09375 \nQ 15.4375 72.65625 20.34375 73.4375 \nQ 25.25 74.21875 29.59375 74.21875 \nQ 40.828125 74.21875 47.359375 69.109375 \nQ 53.90625 64.015625 53.90625 55.328125 \nQ 53.90625 49.265625 50.4375 45.09375 \nQ 46.96875 40.921875 40.578125 39.3125 \nz\n\" id=\"DejaVuSans-51\"/>\n      </defs>\n      <g transform=\"translate(307.233833 351.757656)scale(0.1 -0.1)\">\n       <use xlink:href=\"#DejaVuSans-51\"/>\n       <use x=\"63.623047\" xlink:href=\"#DejaVuSans-48\"/>\n      </g>\n     </g>\n    </g>\n    <g id=\"xtick_5\">\n     <g id=\"line2d_5\">\n      <g>\n       <use style=\"stroke:#000000;stroke-width:0.8;\" x=\"396.41637\" xlink:href=\"#mc8a9fabfa5\" y=\"337.159219\"/>\n      </g>\n     </g>\n     <g id=\"text_5\">\n      <!-- 40 -->\n      <defs>\n       <path d=\"M 37.796875 64.3125 \nL 12.890625 25.390625 \nL 37.796875 25.390625 \nz\nM 35.203125 72.90625 \nL 47.609375 72.90625 \nL 47.609375 25.390625 \nL 58.015625 25.390625 \nL 58.015625 17.1875 \nL 47.609375 17.1875 \nL 47.609375 0 \nL 37.796875 0 \nL 37.796875 17.1875 \nL 4.890625 17.1875 \nL 4.890625 26.703125 \nz\n\" id=\"DejaVuSans-52\"/>\n      </defs>\n      <g transform=\"translate(390.05387 351.757656)scale(0.1 -0.1)\">\n       <use xlink:href=\"#DejaVuSans-52\"/>\n       <use x=\"63.623047\" xlink:href=\"#DejaVuSans-48\"/>\n      </g>\n     </g>\n    </g>\n    <g id=\"xtick_6\">\n     <g id=\"line2d_6\">\n      <g>\n       <use style=\"stroke:#000000;stroke-width:0.8;\" x=\"479.236407\" xlink:href=\"#mc8a9fabfa5\" y=\"337.159219\"/>\n      </g>\n     </g>\n     <g id=\"text_6\">\n      <!-- 50 -->\n      <defs>\n       <path d=\"M 10.796875 72.90625 \nL 49.515625 72.90625 \nL 49.515625 64.59375 \nL 19.828125 64.59375 \nL 19.828125 46.734375 \nQ 21.96875 47.46875 24.109375 47.828125 \nQ 26.265625 48.1875 28.421875 48.1875 \nQ 40.625 48.1875 47.75 41.5 \nQ 54.890625 34.8125 54.890625 23.390625 \nQ 54.890625 11.625 47.5625 5.09375 \nQ 40.234375 -1.421875 26.90625 -1.421875 \nQ 22.3125 -1.421875 17.546875 -0.640625 \nQ 12.796875 0.140625 7.71875 1.703125 \nL 7.71875 11.625 \nQ 12.109375 9.234375 16.796875 8.0625 \nQ 21.484375 6.890625 26.703125 6.890625 \nQ 35.15625 6.890625 40.078125 11.328125 \nQ 45.015625 15.765625 45.015625 23.390625 \nQ 45.015625 31 40.078125 35.4375 \nQ 35.15625 39.890625 26.703125 39.890625 \nQ 22.75 39.890625 18.8125 39.015625 \nQ 14.890625 38.140625 10.796875 36.28125 \nz\n\" id=\"DejaVuSans-53\"/>\n      </defs>\n      <g transform=\"translate(472.873907 351.757656)scale(0.1 -0.1)\">\n       <use xlink:href=\"#DejaVuSans-53\"/>\n       <use x=\"63.623047\" xlink:href=\"#DejaVuSans-48\"/>\n      </g>\n     </g>\n    </g>\n   </g>\n   <g id=\"matplotlib.axis_2\">\n    <g id=\"ytick_1\">\n     <g id=\"line2d_7\">\n      <defs>\n       <path d=\"M 0 0 \nL -3.5 0 \n\" id=\"m43d1057f5d\" style=\"stroke:#000000;stroke-width:0.8;\"/>\n      </defs>\n      <g>\n       <use style=\"stroke:#000000;stroke-width:0.8;\" x=\"44.845313\" xlink:href=\"#m43d1057f5d\" y=\"337.159219\"/>\n      </g>\n     </g>\n     <g id=\"text_7\">\n      <!-- −1.00 -->\n      <defs>\n       <path d=\"M 10.59375 35.5 \nL 73.1875 35.5 \nL 73.1875 27.203125 \nL 10.59375 27.203125 \nz\n\" id=\"DejaVuSans-8722\"/>\n       <path d=\"M 10.6875 12.40625 \nL 21 12.40625 \nL 21 0 \nL 10.6875 0 \nz\n\" id=\"DejaVuSans-46\"/>\n      </defs>\n      <g transform=\"translate(7.2 340.958438)scale(0.1 -0.1)\">\n       <use xlink:href=\"#DejaVuSans-8722\"/>\n       <use x=\"83.789062\" xlink:href=\"#DejaVuSans-49\"/>\n       <use x=\"147.412109\" xlink:href=\"#DejaVuSans-46\"/>\n       <use x=\"179.199219\" xlink:href=\"#DejaVuSans-48\"/>\n       <use x=\"242.822266\" xlink:href=\"#DejaVuSans-48\"/>\n      </g>\n     </g>\n    </g>\n    <g id=\"ytick_2\">\n     <g id=\"line2d_8\">\n      <g>\n       <use style=\"stroke:#000000;stroke-width:0.8;\" x=\"44.845313\" xlink:href=\"#m43d1057f5d\" y=\"296.389219\"/>\n      </g>\n     </g>\n     <g id=\"text_8\">\n      <!-- −0.75 -->\n      <defs>\n       <path d=\"M 8.203125 72.90625 \nL 55.078125 72.90625 \nL 55.078125 68.703125 \nL 28.609375 0 \nL 18.3125 0 \nL 43.21875 64.59375 \nL 8.203125 64.59375 \nz\n\" id=\"DejaVuSans-55\"/>\n      </defs>\n      <g transform=\"translate(7.2 300.188438)scale(0.1 -0.1)\">\n       <use xlink:href=\"#DejaVuSans-8722\"/>\n       <use x=\"83.789062\" xlink:href=\"#DejaVuSans-48\"/>\n       <use x=\"147.412109\" xlink:href=\"#DejaVuSans-46\"/>\n       <use x=\"179.199219\" xlink:href=\"#DejaVuSans-55\"/>\n       <use x=\"242.822266\" xlink:href=\"#DejaVuSans-53\"/>\n      </g>\n     </g>\n    </g>\n    <g id=\"ytick_3\">\n     <g id=\"line2d_9\">\n      <g>\n       <use style=\"stroke:#000000;stroke-width:0.8;\" x=\"44.845313\" xlink:href=\"#m43d1057f5d\" y=\"255.619219\"/>\n      </g>\n     </g>\n     <g id=\"text_9\">\n      <!-- −0.50 -->\n      <g transform=\"translate(7.2 259.418438)scale(0.1 -0.1)\">\n       <use xlink:href=\"#DejaVuSans-8722\"/>\n       <use x=\"83.789062\" xlink:href=\"#DejaVuSans-48\"/>\n       <use x=\"147.412109\" xlink:href=\"#DejaVuSans-46\"/>\n       <use x=\"179.199219\" xlink:href=\"#DejaVuSans-53\"/>\n       <use x=\"242.822266\" xlink:href=\"#DejaVuSans-48\"/>\n      </g>\n     </g>\n    </g>\n    <g id=\"ytick_4\">\n     <g id=\"line2d_10\">\n      <g>\n       <use style=\"stroke:#000000;stroke-width:0.8;\" x=\"44.845313\" xlink:href=\"#m43d1057f5d\" y=\"214.849219\"/>\n      </g>\n     </g>\n     <g id=\"text_10\">\n      <!-- −0.25 -->\n      <g transform=\"translate(7.2 218.648438)scale(0.1 -0.1)\">\n       <use xlink:href=\"#DejaVuSans-8722\"/>\n       <use x=\"83.789062\" xlink:href=\"#DejaVuSans-48\"/>\n       <use x=\"147.412109\" xlink:href=\"#DejaVuSans-46\"/>\n       <use x=\"179.199219\" xlink:href=\"#DejaVuSans-50\"/>\n       <use x=\"242.822266\" xlink:href=\"#DejaVuSans-53\"/>\n      </g>\n     </g>\n    </g>\n    <g id=\"ytick_5\">\n     <g id=\"line2d_11\">\n      <g>\n       <use style=\"stroke:#000000;stroke-width:0.8;\" x=\"44.845313\" xlink:href=\"#m43d1057f5d\" y=\"174.079219\"/>\n      </g>\n     </g>\n     <g id=\"text_11\">\n      <!-- 0.00 -->\n      <g transform=\"translate(15.579688 177.878438)scale(0.1 -0.1)\">\n       <use xlink:href=\"#DejaVuSans-48\"/>\n       <use x=\"63.623047\" xlink:href=\"#DejaVuSans-46\"/>\n       <use x=\"95.410156\" xlink:href=\"#DejaVuSans-48\"/>\n       <use x=\"159.033203\" xlink:href=\"#DejaVuSans-48\"/>\n      </g>\n     </g>\n    </g>\n    <g id=\"ytick_6\">\n     <g id=\"line2d_12\">\n      <g>\n       <use style=\"stroke:#000000;stroke-width:0.8;\" x=\"44.845313\" xlink:href=\"#m43d1057f5d\" y=\"133.309219\"/>\n      </g>\n     </g>\n     <g id=\"text_12\">\n      <!-- 0.25 -->\n      <g transform=\"translate(15.579688 137.108438)scale(0.1 -0.1)\">\n       <use xlink:href=\"#DejaVuSans-48\"/>\n       <use x=\"63.623047\" xlink:href=\"#DejaVuSans-46\"/>\n       <use x=\"95.410156\" xlink:href=\"#DejaVuSans-50\"/>\n       <use x=\"159.033203\" xlink:href=\"#DejaVuSans-53\"/>\n      </g>\n     </g>\n    </g>\n    <g id=\"ytick_7\">\n     <g id=\"line2d_13\">\n      <g>\n       <use style=\"stroke:#000000;stroke-width:0.8;\" x=\"44.845313\" xlink:href=\"#m43d1057f5d\" y=\"92.539219\"/>\n      </g>\n     </g>\n     <g id=\"text_13\">\n      <!-- 0.50 -->\n      <g transform=\"translate(15.579688 96.338438)scale(0.1 -0.1)\">\n       <use xlink:href=\"#DejaVuSans-48\"/>\n       <use x=\"63.623047\" xlink:href=\"#DejaVuSans-46\"/>\n       <use x=\"95.410156\" xlink:href=\"#DejaVuSans-53\"/>\n       <use x=\"159.033203\" xlink:href=\"#DejaVuSans-48\"/>\n      </g>\n     </g>\n    </g>\n    <g id=\"ytick_8\">\n     <g id=\"line2d_14\">\n      <g>\n       <use style=\"stroke:#000000;stroke-width:0.8;\" x=\"44.845313\" xlink:href=\"#m43d1057f5d\" y=\"51.769219\"/>\n      </g>\n     </g>\n     <g id=\"text_14\">\n      <!-- 0.75 -->\n      <g transform=\"translate(15.579688 55.568438)scale(0.1 -0.1)\">\n       <use xlink:href=\"#DejaVuSans-48\"/>\n       <use x=\"63.623047\" xlink:href=\"#DejaVuSans-46\"/>\n       <use x=\"95.410156\" xlink:href=\"#DejaVuSans-55\"/>\n       <use x=\"159.033203\" xlink:href=\"#DejaVuSans-53\"/>\n      </g>\n     </g>\n    </g>\n    <g id=\"ytick_9\">\n     <g id=\"line2d_15\">\n      <g>\n       <use style=\"stroke:#000000;stroke-width:0.8;\" x=\"44.845313\" xlink:href=\"#m43d1057f5d\" y=\"10.999219\"/>\n      </g>\n     </g>\n     <g id=\"text_15\">\n      <!-- 1.00 -->\n      <g transform=\"translate(15.579688 14.798438)scale(0.1 -0.1)\">\n       <use xlink:href=\"#DejaVuSans-49\"/>\n       <use x=\"63.623047\" xlink:href=\"#DejaVuSans-46\"/>\n       <use x=\"95.410156\" xlink:href=\"#DejaVuSans-48\"/>\n       <use x=\"159.033203\" xlink:href=\"#DejaVuSans-48\"/>\n      </g>\n     </g>\n    </g>\n   </g>\n   <g id=\"line2d_16\">\n    <defs>\n     <path d=\"M 0 3 \nC 0.795609 3 1.55874 2.683901 2.12132 2.12132 \nC 2.683901 1.55874 3 0.795609 3 0 \nC 3 -0.795609 2.683901 -1.55874 2.12132 -2.12132 \nC 1.55874 -2.683901 0.795609 -3 0 -3 \nC -0.795609 -3 -1.55874 -2.683901 -2.12132 -2.12132 \nC -2.683901 -1.55874 -3 -0.795609 -3 0 \nC -3 0.795609 -2.683901 1.55874 -2.12132 2.12132 \nC -1.55874 2.683901 -0.795609 3 0 3 \nz\n\" id=\"mc4e0676fce\" style=\"stroke:#1f77b4;\"/>\n    </defs>\n    <g clip-path=\"url(#p30328e91a7)\">\n     <use style=\"fill:#1f77b4;stroke:#1f77b4;\" x=\"65.136222\" xlink:href=\"#mc4e0676fce\" y=\"164.013623\"/>\n     <use style=\"fill:#1f77b4;stroke:#1f77b4;\" x=\"73.418225\" xlink:href=\"#mc4e0676fce\" y=\"163.41758\"/>\n     <use style=\"fill:#1f77b4;stroke:#1f77b4;\" x=\"81.700229\" xlink:href=\"#mc4e0676fce\" y=\"163.962533\"/>\n     <use style=\"fill:#1f77b4;stroke:#1f77b4;\" x=\"89.982233\" xlink:href=\"#mc4e0676fce\" y=\"163.295522\"/>\n     <use style=\"fill:#1f77b4;stroke:#1f77b4;\" x=\"98.264236\" xlink:href=\"#mc4e0676fce\" y=\"163.598017\"/>\n     <use style=\"fill:#1f77b4;stroke:#1f77b4;\" x=\"106.54624\" xlink:href=\"#mc4e0676fce\" y=\"163.554275\"/>\n     <use style=\"fill:#1f77b4;stroke:#1f77b4;\" x=\"114.828244\" xlink:href=\"#mc4e0676fce\" y=\"163.548468\"/>\n     <use style=\"fill:#1f77b4;stroke:#1f77b4;\" x=\"123.110248\" xlink:href=\"#mc4e0676fce\" y=\"163.571064\"/>\n     <use style=\"fill:#1f77b4;stroke:#1f77b4;\" x=\"131.392251\" xlink:href=\"#mc4e0676fce\" y=\"163.520759\"/>\n     <use style=\"fill:#1f77b4;stroke:#1f77b4;\" x=\"139.674255\" xlink:href=\"#mc4e0676fce\" y=\"163.595875\"/>\n     <use style=\"fill:#1f77b4;stroke:#1f77b4;\" x=\"147.956259\" xlink:href=\"#mc4e0676fce\" y=\"163.498773\"/>\n     <use style=\"fill:#1f77b4;stroke:#1f77b4;\" x=\"156.238262\" xlink:href=\"#mc4e0676fce\" y=\"163.622964\"/>\n     <use style=\"fill:#1f77b4;stroke:#1f77b4;\" x=\"164.520266\" xlink:href=\"#mc4e0676fce\" y=\"174.079219\"/>\n     <use style=\"fill:#1f77b4;stroke:#1f77b4;\" x=\"172.80227\" xlink:href=\"#mc4e0676fce\" y=\"174.079219\"/>\n     <use style=\"fill:#1f77b4;stroke:#1f77b4;\" x=\"181.084274\" xlink:href=\"#mc4e0676fce\" y=\"174.079219\"/>\n     <use style=\"fill:#1f77b4;stroke:#1f77b4;\" x=\"189.366277\" xlink:href=\"#mc4e0676fce\" y=\"174.079219\"/>\n     <use style=\"fill:#1f77b4;stroke:#1f77b4;\" x=\"197.648281\" xlink:href=\"#mc4e0676fce\" y=\"174.079219\"/>\n     <use style=\"fill:#1f77b4;stroke:#1f77b4;\" x=\"205.930285\" xlink:href=\"#mc4e0676fce\" y=\"174.079219\"/>\n     <use style=\"fill:#1f77b4;stroke:#1f77b4;\" x=\"214.212288\" xlink:href=\"#mc4e0676fce\" y=\"174.079219\"/>\n     <use style=\"fill:#1f77b4;stroke:#1f77b4;\" x=\"222.494292\" xlink:href=\"#mc4e0676fce\" y=\"174.079219\"/>\n     <use style=\"fill:#1f77b4;stroke:#1f77b4;\" x=\"230.776296\" xlink:href=\"#mc4e0676fce\" y=\"174.079219\"/>\n     <use style=\"fill:#1f77b4;stroke:#1f77b4;\" x=\"239.0583\" xlink:href=\"#mc4e0676fce\" y=\"174.079219\"/>\n     <use style=\"fill:#1f77b4;stroke:#1f77b4;\" x=\"247.340303\" xlink:href=\"#mc4e0676fce\" y=\"174.079219\"/>\n     <use style=\"fill:#1f77b4;stroke:#1f77b4;\" x=\"255.622307\" xlink:href=\"#mc4e0676fce\" y=\"174.079219\"/>\n     <use style=\"fill:#1f77b4;stroke:#1f77b4;\" x=\"263.904311\" xlink:href=\"#mc4e0676fce\" y=\"174.079219\"/>\n     <use style=\"fill:#1f77b4;stroke:#1f77b4;\" x=\"272.186314\" xlink:href=\"#mc4e0676fce\" y=\"174.079219\"/>\n     <use style=\"fill:#1f77b4;stroke:#1f77b4;\" x=\"280.468318\" xlink:href=\"#mc4e0676fce\" y=\"174.079219\"/>\n     <use style=\"fill:#1f77b4;stroke:#1f77b4;\" x=\"288.750322\" xlink:href=\"#mc4e0676fce\" y=\"174.079219\"/>\n     <use style=\"fill:#1f77b4;stroke:#1f77b4;\" x=\"297.032325\" xlink:href=\"#mc4e0676fce\" y=\"174.079219\"/>\n     <use style=\"fill:#1f77b4;stroke:#1f77b4;\" x=\"305.314329\" xlink:href=\"#mc4e0676fce\" y=\"174.079219\"/>\n     <use style=\"fill:#1f77b4;stroke:#1f77b4;\" x=\"313.596333\" xlink:href=\"#mc4e0676fce\" y=\"174.079219\"/>\n     <use style=\"fill:#1f77b4;stroke:#1f77b4;\" x=\"321.878337\" xlink:href=\"#mc4e0676fce\" y=\"174.079219\"/>\n     <use style=\"fill:#1f77b4;stroke:#1f77b4;\" x=\"330.16034\" xlink:href=\"#mc4e0676fce\" y=\"174.079219\"/>\n     <use style=\"fill:#1f77b4;stroke:#1f77b4;\" x=\"338.442344\" xlink:href=\"#mc4e0676fce\" y=\"174.079219\"/>\n     <use style=\"fill:#1f77b4;stroke:#1f77b4;\" x=\"346.724348\" xlink:href=\"#mc4e0676fce\" y=\"174.079219\"/>\n     <use style=\"fill:#1f77b4;stroke:#1f77b4;\" x=\"355.006351\" xlink:href=\"#mc4e0676fce\" y=\"174.079219\"/>\n     <use style=\"fill:#1f77b4;stroke:#1f77b4;\" x=\"363.288355\" xlink:href=\"#mc4e0676fce\" y=\"174.079219\"/>\n     <use style=\"fill:#1f77b4;stroke:#1f77b4;\" x=\"371.570359\" xlink:href=\"#mc4e0676fce\" y=\"174.079219\"/>\n     <use style=\"fill:#1f77b4;stroke:#1f77b4;\" x=\"379.852363\" xlink:href=\"#mc4e0676fce\" y=\"174.079219\"/>\n     <use style=\"fill:#1f77b4;stroke:#1f77b4;\" x=\"388.134366\" xlink:href=\"#mc4e0676fce\" y=\"174.079219\"/>\n     <use style=\"fill:#1f77b4;stroke:#1f77b4;\" x=\"396.41637\" xlink:href=\"#mc4e0676fce\" y=\"174.079219\"/>\n     <use style=\"fill:#1f77b4;stroke:#1f77b4;\" x=\"404.698374\" xlink:href=\"#mc4e0676fce\" y=\"174.079219\"/>\n     <use style=\"fill:#1f77b4;stroke:#1f77b4;\" x=\"412.980377\" xlink:href=\"#mc4e0676fce\" y=\"174.079219\"/>\n     <use style=\"fill:#1f77b4;stroke:#1f77b4;\" x=\"421.262381\" xlink:href=\"#mc4e0676fce\" y=\"174.079219\"/>\n     <use style=\"fill:#1f77b4;stroke:#1f77b4;\" x=\"429.544385\" xlink:href=\"#mc4e0676fce\" y=\"174.079219\"/>\n     <use style=\"fill:#1f77b4;stroke:#1f77b4;\" x=\"437.826389\" xlink:href=\"#mc4e0676fce\" y=\"174.079219\"/>\n     <use style=\"fill:#1f77b4;stroke:#1f77b4;\" x=\"446.108392\" xlink:href=\"#mc4e0676fce\" y=\"174.079219\"/>\n     <use style=\"fill:#1f77b4;stroke:#1f77b4;\" x=\"454.390396\" xlink:href=\"#mc4e0676fce\" y=\"174.079219\"/>\n     <use style=\"fill:#1f77b4;stroke:#1f77b4;\" x=\"462.6724\" xlink:href=\"#mc4e0676fce\" y=\"174.079219\"/>\n     <use style=\"fill:#1f77b4;stroke:#1f77b4;\" x=\"470.954403\" xlink:href=\"#mc4e0676fce\" y=\"174.079219\"/>\n    </g>\n   </g>\n   <g id=\"patch_3\">\n    <path d=\"M 44.845313 337.159219 \nL 44.845313 10.999219 \n\" style=\"fill:none;stroke:#000000;stroke-linecap:square;stroke-linejoin:miter;stroke-width:0.8;\"/>\n   </g>\n   <g id=\"patch_4\">\n    <path d=\"M 491.245312 337.159219 \nL 491.245312 10.999219 \n\" style=\"fill:none;stroke:#000000;stroke-linecap:square;stroke-linejoin:miter;stroke-width:0.8;\"/>\n   </g>\n   <g id=\"patch_5\">\n    <path d=\"M 44.845312 337.159219 \nL 491.245312 337.159219 \n\" style=\"fill:none;stroke:#000000;stroke-linecap:square;stroke-linejoin:miter;stroke-width:0.8;\"/>\n   </g>\n   <g id=\"patch_6\">\n    <path d=\"M 44.845312 10.999219 \nL 491.245312 10.999219 \n\" style=\"fill:none;stroke:#000000;stroke-linecap:square;stroke-linejoin:miter;stroke-width:0.8;\"/>\n   </g>\n  </g>\n </g>\n <defs>\n  <clipPath id=\"p30328e91a7\">\n   <rect height=\"326.16\" width=\"446.4\" x=\"44.845313\" y=\"10.999219\"/>\n  </clipPath>\n </defs>\n</svg>\n",
      "text/plain": "<Figure size 576x432 with 1 Axes>"
     },
     "metadata": {
      "needs_background": "light"
     },
     "output_type": "display_data"
    }
   ],
   "source": [
    "plt.figure(figsize=(8, 6))\n",
    "plt.plot(np.arange(tau_arr.size), tau_arr, 'o')\n",
    "plt.ylim(-1, 1)\n",
    "plt.show()"
   ]
  },
  {
   "cell_type": "code",
   "execution_count": null,
   "metadata": {},
   "outputs": [],
   "source": []
  }
 ],
 "metadata": {
  "kernelspec": {
   "display_name": "Python 3",
   "language": "python",
   "name": "python3"
  },
  "language_info": {
   "codemirror_mode": {
    "name": "ipython",
    "version": 3
   },
   "file_extension": ".py",
   "mimetype": "text/x-python",
   "name": "python",
   "nbconvert_exporter": "python",
   "pygments_lexer": "ipython3",
   "version": "3.7.6-final"
  }
 },
 "nbformat": 4,
 "nbformat_minor": 2
}