{
 "nbformat": 4,
 "nbformat_minor": 2,
 "metadata": {
  "language_info": {
   "name": "python",
   "codemirror_mode": {
    "name": "ipython",
    "version": 3
   },
   "version": "3.7.6-final"
  },
  "orig_nbformat": 2,
  "file_extension": ".py",
  "mimetype": "text/x-python",
  "name": "python",
  "npconvert_exporter": "python",
  "pygments_lexer": "ipython3",
  "version": 3,
  "kernelspec": {
   "name": "python3",
   "display_name": "Python 3"
  }
 },
 "cells": [
  {
   "cell_type": "code",
   "execution_count": null,
   "metadata": {},
   "outputs": [],
   "source": [
    "def reccur(n):\n",
    "    if n == 0:\n",
    "        return 1\n",
    "    elif n == 1:\n",
    "        return -3\n",
    "    return -reccur(n-1) + 6 * reccur(n-2)\n",
    "array_p = []\n",
    "array_t = []\n",
    "array_d = []\n",
    "for i in range(25):\n",
    "    array_p.append(reccur(i))\n",
    "    array_t.append((-3) ** i)\n",
    "    array_d.append(reccur(i) - (-3) ** i)\n",
    "print(array_p)\n",
    "print(array_t)\n",
    "print(array_d)\n"
   ]
  },
  {
   "cell_type": "code",
   "execution_count": null,
   "metadata": {},
   "outputs": [],
   "source": []
  }
 ]
}