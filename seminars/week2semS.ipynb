{
 "cells": [
  {
   "cell_type": "markdown",
   "metadata": {},
   "source": [
    "# Формула Шерман-Моррисона и трехдиагональная матрица"
   ]
  },
  {
   "cell_type": "code",
   "execution_count": 23,
   "metadata": {},
   "outputs": [],
   "source": [
    "import numpy as np\n",
    "import scipy.linalg as la\n",
    "import matplotlib.pyplot as plt"
   ]
  },
  {
   "cell_type": "markdown",
   "metadata": {},
   "source": [
    "Разберем пример, уравнение пружинного маятника с внешней силой: \n",
    "$$ \\ddot x(t) + k^2 x(t) = f(t) $$ \n",
    "При этом будем считать функцию $f(t)$ переодичной с периодом $T$. Очевидно, что устоявшееся решение уравнения также должно быть периодично. Ищем решение на интервале $t = (0, T)$.\n",
    "\n",
    "Для численного расчета ввдем равномерную сетку из $N$ узлов:\n",
    "$$t_n = \\frac{n}{N} T$$\n",
    "$$x_n = x(t_n) $$\n",
    "$$f_n = f(t_n) $$\n",
    "$$\\ddot x_n = \\frac{x_{n+1} - 2x_n + y_{x-1}}{\\Delta t^2} $$\n",
    "\n",
    "\n",
    "\n"
   ]
  },
  {
   "cell_type": "markdown",
   "metadata": {},
   "source": [
    "*Задать парметры системы, k, N, T. Определить вектора $t_n$, $f_n$. Например $f = sin(t) + sin(3t) + cos(5t)$*"
   ]
  },
  {
   "cell_type": "code",
   "execution_count": null,
   "metadata": {},
   "outputs": [],
   "source": []
  },
  {
   "cell_type": "markdown",
   "metadata": {},
   "source": [
    "Уравнение на сетке перепишется в виде:\n",
    "$$ \\frac{x_{n+1} - 2x_n + x_{n-1}}{\\Delta t^2} + k^2 x_n = f_n $$\n",
    "$$ \\frac{1}{\\Delta t^2}x_{n+1} + \\left(k^2 - \\frac{2}{\\Delta t^2} \\right) x_n + \\frac{1}{\\Delta t^2}x_{n-1} = f_n $$\n",
    "Или введя обозначения $\\alpha = k^2 \\Delta t^2 - 2$ и $F_n = f_n \\Delta t^2$\n",
    "$$ x_{n+1} + \\alpha x_n + x_{n-1} = F_n $$\n",
    "для $n = (1,N-2)$.\n",
    "\n",
    "\n"
   ]
  },
  {
   "cell_type": "markdown",
   "metadata": {},
   "source": [
    "*Определить $\\alpha$ и $F$*"
   ]
  },
  {
   "cell_type": "code",
   "execution_count": null,
   "metadata": {},
   "outputs": [],
   "source": []
  },
  {
   "cell_type": "markdown",
   "metadata": {},
   "source": [
    "Из граничных условий получаем уравнения для $x_0$ и $x_{N-1}$:\n",
    "$$ x_{1} + \\alpha x_0 + x_{N-1} = F_0 $$\n",
    "$$ x_{0} + \\alpha x_{N-1} + x_{N-2} = F_{N-1} $$\n",
    "\n",
    "\n",
    "Все вместе это можно записать в матричном виде:\n",
    "$$ \n",
    "\\begin{pmatrix} \n",
    "    \\alpha & 1 & 0 & 0 & \\dots & 0 & 0 & 1 \\\\\n",
    "    1 & \\alpha & 1 & 0 & \\dots & 0 & 0 & 0 \\\\\n",
    "    0 & 1 & \\alpha & 1 & \\dots & 0 & 0 & 0 \\\\\n",
    "    0 & 0 & 1 & \\alpha & \\dots & 0 & 0 & 0 \\\\\n",
    "    \\vdots & \\vdots & \\vdots & \\vdots & \\ddots & \\vdots & \\vdots & \\vdots \\\\\n",
    "    0 & 0 & 0 & 0 & \\dots & \\alpha & 1 & 0 \\\\ \n",
    "    0 & 0 & 0 & 0 & \\dots & 1 & \\alpha & 1 \\\\ \n",
    "    1 & 0 & 0 & 0 & \\dots & 0 & 1 & \\alpha \\\\ \n",
    "\\end{pmatrix} \n",
    "\\begin{pmatrix} \n",
    "    x_0 \\\\\n",
    "    x_1 \\\\\n",
    "    x_2 \\\\\n",
    "    x_3 \\\\\n",
    "    \\vdots \\\\\n",
    "    x_{N-3} \\\\\n",
    "    x_{N-2} \\\\\n",
    "    x_{N-1} \\\\\n",
    "\\end{pmatrix}\n",
    "=\n",
    "\\begin{pmatrix} \n",
    "    F_0 \\\\\n",
    "    F_1 \\\\\n",
    "    F_2 \\\\\n",
    "    F_3 \\\\\n",
    "    \\vdots \\\\\n",
    "    F_{N-3} \\\\\n",
    "    F_{N-2} \\\\\n",
    "    F_{N-1} \\\\\n",
    "\\end{pmatrix}\n",
    "$$\n"
   ]
  },
  {
   "cell_type": "markdown",
   "metadata": {},
   "source": [
    "Полученная матрица очень похожа на трехдиаганальную (для решения которых существуют очень эффективные методы, см. scipy.linalg.solve_banded). Но она отличается наличием ненулевых элементах в углах матрицы, из-за чего напрямую применить кк ней быстрые методы нельзя.\n",
    "\n",
    "На помощь приходит формула Шерман-Моррисона. Пусть есть матрица $A$, решение для которой мы можем посчитать быстро. Пусть новая матрица $B = A + {\\bf uv}^T$ отличается от известной добавкой, представимой в виде произведения двух векторов ${\\bf uv}^T$.\n",
    "\n",
    "Тогда, чтобы получить решение уравнения\n",
    "$$ (A + {\\bf uv}^T) {\\bf x} = {\\bf f} $$\n",
    "достаточно получить $x_0$ и $y$ из уравнений:\n",
    "$$ A {\\bf x}_0 = {\\bf f} \\qquad A {\\bf y} = {\\bf u} $$\n",
    "тогда решение исходного уравнения:\n",
    "$$ {\\bf x} = {\\bf x}_0 - \\frac{({\\bf v} \\cdot {\\bf x}_0 )}{1 + ({\\bf v} \\cdot {\\bf y})} {\\bf y} $$\n"
   ]
  },
  {
   "cell_type": "markdown",
   "metadata": {},
   "source": [
    "Несложно получить, что ветора $\\bf u$ и $\\bf v$ должны иметь вид:\n",
    "$$\n",
    "{\\bf u} = \n",
    "\\begin{pmatrix} \n",
    "    \\gamma \\\\\n",
    "    0 \\\\\n",
    "    \\vdots \\\\\n",
    "    0 \\\\\n",
    "    1 \\\\\n",
    "\\end{pmatrix}\n",
    "\\qquad \n",
    "{\\bf v} = \n",
    "\\begin{pmatrix} \n",
    "    1 \\\\\n",
    "    0 \\\\\n",
    "    \\vdots \\\\\n",
    "    0 \\\\\n",
    "    1/\\gamma \\\\\n",
    "\\end{pmatrix}\n",
    "\\qquad\n",
    "{\\bf u v}^T = \n",
    "\\begin{pmatrix} \n",
    "    \\gamma & 0 & \\dots & 0 & 1 \\\\\n",
    "    0 & 0 &\\dots & 0 & 0 \\\\\n",
    "    \\vdots & \\vdots & \\ddots & \\vdots & \\vdots \\\\\n",
    "    0 & 0 & \\dots & 0 & 0 \\\\ \n",
    "    1 & 0 & \\dots & 0 & 1/\\gamma \\\\ \n",
    "\\end{pmatrix} \n",
    "$$\n",
    "где $\\gamma$ произвольное число.\n",
    "\n",
    "Тогда матрица $A$ в нашем случае:\n",
    "$$\n",
    "A = \n",
    "\\begin{pmatrix} \n",
    "    \\alpha - \\gamma & 1 & 0 & 0 & \\dots & 0 & 0 & 0 \\\\\n",
    "    1 & \\alpha & 1 & 0 & \\dots & 0 & 0 & 0 \\\\\n",
    "    0 & 1 & \\alpha & 1 & \\dots & 0 & 0 & 0 \\\\\n",
    "    0 & 0 & 1 & \\alpha & \\dots & 0 & 0 & 0 \\\\\n",
    "    \\vdots & \\vdots & \\vdots & \\vdots & \\ddots & \\vdots & \\vdots & \\vdots \\\\\n",
    "    0 & 0 & 0 & 0 & \\dots & \\alpha & 1 & 0 \\\\ \n",
    "    0 & 0 & 0 & 0 & \\dots & 1 & \\alpha & 1 \\\\ \n",
    "    0 & 0 & 0 & 0 & \\dots & 0 & 1 & \\alpha - 1/\\gamma \\\\ \n",
    "\\end{pmatrix} \n",
    "$$\n"
   ]
  },
  {
   "cell_type": "markdown",
   "metadata": {},
   "source": [
    "*Задать вектора $\\bf v$ и $\\bf u$*"
   ]
  },
  {
   "cell_type": "code",
   "execution_count": null,
   "metadata": {},
   "outputs": [],
   "source": []
  },
  {
   "cell_type": "markdown",
   "metadata": {},
   "source": [
    "*Определить диагонали матрицы в виде трехстрочной матрицы (см. документацию solve_banded) *"
   ]
  },
  {
   "cell_type": "code",
   "execution_count": 27,
   "metadata": {},
   "outputs": [],
   "source": [
    "diag_up = \n",
    "diag_mid =\n",
    "diag_low =\n",
    "\n",
    "A_band = np.concatenate(([diag_up], [diag_mid], [diag_low]), axis = 0)"
   ]
  },
  {
   "cell_type": "markdown",
   "metadata": {},
   "source": [
    "*Решить уравнения $A {\\bf x}_0 = {\\bf f}$ и $ A {\\bf y} = {\\bf u} $ и найти $\\bf x$. Построить графики (t,x) и (t,f). Поварировать параметры задачи. Что будет, если собственная частота $k$ совпадет с одной из частот $f_n$?*"
   ]
  },
  {
   "cell_type": "code",
   "execution_count": null,
   "metadata": {},
   "outputs": [],
   "source": []
  }
 ],
 "metadata": {
  "kernelspec": {
   "display_name": "Python 3",
   "language": "python",
   "name": "python3"
  },
  "language_info": {
   "codemirror_mode": {
    "name": "ipython",
    "version": 3
   },
   "file_extension": ".py",
   "mimetype": "text/x-python",
   "name": "python",
   "nbconvert_exporter": "python",
   "pygments_lexer": "ipython3",
   "version": "3.6.5"
  }
 },
 "nbformat": 4,
 "nbformat_minor": 2
}
